{
 "cells": [
  {
   "cell_type": "markdown",
   "metadata": {},
   "source": [
    "# Ciência de Dados com aplicações em Python\n",
    "\n",
    "___\n",
    "\n",
    "\n",
    "Esse notebook é uma extensão da aula aplicada. É interessante que o aluno leia todos os comentários e execute os exercícios propostos, inclua seu código no local correto e determinado com \"SEU CÓDIGO AQUI\"."
   ]
  },
  {
   "cell_type": "markdown",
   "metadata": {},
   "source": [
    "# Variáveis"
   ]
  },
  {
   "cell_type": "code",
   "execution_count": 1,
   "metadata": {},
   "outputs": [],
   "source": [
    "## Variáveis são úteis para guardar e trablhar informações de forma dinâmica\n",
    "## para criar uma variável em python, basta dar uma nome a ela e colocar seu conteúdo depois do sinal de igual conforme exemplo abaixo.\n",
    "\n",
    "x = 10"
   ]
  },
  {
   "cell_type": "code",
   "execution_count": 2,
   "metadata": {},
   "outputs": [
    {
     "name": "stdout",
     "output_type": "stream",
     "text": [
      "10\n"
     ]
    }
   ],
   "source": [
    "print(x)"
   ]
  },
  {
   "cell_type": "code",
   "execution_count": 3,
   "metadata": {},
   "outputs": [],
   "source": [
    "### Variáveis em python podem guardar várias coisas !!!\n",
    "    \n",
    "## Strings ##\n",
    "    \n",
    "minha_string = 'Eu estou aprendendo python'\n",
    "\n",
    "## Números inteiros (int) ##\n",
    "    \n",
    "meu_int = 155\n",
    "\n",
    "## Valores flutuantes (floats) ##\n",
    "\n",
    "meu_primeiro_float = 5.554785485\n",
    "\n",
    "## Valores booletanos ##\n",
    "\n",
    "meu_primeiro_valor_booleano = True\n",
    "\n",
    "## Listas ##\n",
    "\n",
    "minha_primeira_lista = [10,12,13,14,15]\n",
    "\n",
    "## Dicionários ##\n",
    "\n",
    "meu_primeiro_dicionario = {'nome':'Nasser', 'idade':29}\n",
    "\n",
    "## Tuplas ##\n",
    "\n",
    "minha_primeira_tupla = (15,12)"
   ]
  },
  {
   "cell_type": "markdown",
   "metadata": {},
   "source": [
    "### Exércicio!!!!\n",
    "\n",
    "Hora de praticar! Use a função 'print' para acessar os valores das variáveis criadas acima. Desafio: altere os valores das variáveis na célula acima, rodea-a novamente, e printe os novos valores."
   ]
  },
  {
   "cell_type": "code",
   "execution_count": 4,
   "metadata": {},
   "outputs": [],
   "source": [
    "## SEU CÓDIGO AQUI ##\n",
    "\n",
    "\n",
    "## SEU CÓDIGO AQUI ##"
   ]
  },
  {
   "cell_type": "markdown",
   "metadata": {},
   "source": [
    "### Atribuição múltipla\n",
    "\n",
    "Podemos criar mais de uma variável ao mesmo usando uma vírgula para separa os nomes e os conteúdos!! Veja o exemplo abaixo."
   ]
  },
  {
   "cell_type": "code",
   "execution_count": 5,
   "metadata": {},
   "outputs": [],
   "source": [
    "primeira, segunda, terceira, quarta, quinta = 1, 2, 3, 4, 5"
   ]
  },
  {
   "cell_type": "code",
   "execution_count": 6,
   "metadata": {},
   "outputs": [
    {
     "name": "stdout",
     "output_type": "stream",
     "text": [
      "5\n"
     ]
    }
   ],
   "source": [
    "print(quinta)"
   ]
  },
  {
   "cell_type": "markdown",
   "metadata": {},
   "source": [
    "### Operações Matemáticas\n",
    "\n",
    "Podemos executar operações com variáveis que contêm o mesmo tipo e até de tipos diferentes, porém as possibilidades aqui não são infinitas. O resultado de operações também podem ser atribuídos a variáveis."
   ]
  },
  {
   "cell_type": "code",
   "execution_count": 7,
   "metadata": {},
   "outputs": [],
   "source": [
    "## criando uma variável com o resultado da soma\n",
    "\n",
    "a = 5+5"
   ]
  },
  {
   "cell_type": "code",
   "execution_count": 8,
   "metadata": {},
   "outputs": [
    {
     "name": "stdout",
     "output_type": "stream",
     "text": [
      "10\n"
     ]
    }
   ],
   "source": [
    "print(a)"
   ]
  },
  {
   "cell_type": "code",
   "execution_count": 9,
   "metadata": {},
   "outputs": [],
   "source": [
    "## criando uma variável com o resultade uma divisão\n",
    "\n",
    "b = 1/558"
   ]
  },
  {
   "cell_type": "code",
   "execution_count": 10,
   "metadata": {},
   "outputs": [
    {
     "name": "stdout",
     "output_type": "stream",
     "text": [
      "0.0017921146953405018\n"
     ]
    }
   ],
   "source": [
    "print(b)"
   ]
  },
  {
   "cell_type": "code",
   "execution_count": 11,
   "metadata": {},
   "outputs": [
    {
     "data": {
      "text/plain": [
       "5580.0"
      ]
     },
     "execution_count": 11,
     "metadata": {},
     "output_type": "execute_result"
    }
   ],
   "source": [
    "## Usando as duas variáveis acima (x e y) para gerar uma divisão\n",
    "\n",
    "a / b"
   ]
  },
  {
   "cell_type": "markdown",
   "metadata": {},
   "source": [
    "Em python utilizamos os seguinte símbolos como operadores matemáticos: <br>\n",
    "\n",
    "| Operador | Descrição                 | Exemplo |\n",
    "|----------|---------------------------|---------|\n",
    "| +        | soma                      | a + b   |\n",
    "| -        | subtração                 | a - b   |\n",
    "| *        | multiplicação             | a * b   |\n",
    "| /        | divisão                   | a / b   |\n",
    "| %        | módulo (resto da divisão) | a % b   |\n",
    "| **       | potência                  | a ** b  |\n",
    "| //       | parte inteira da divisão  | a // b  |"
   ]
  },
  {
   "cell_type": "markdown",
   "metadata": {},
   "source": [
    "### Exércicio!!!!\n",
    "\n",
    "Usando as variáveris dos exemplos acima execute todas as operações possíveis (dica: use a tabela como cola)."
   ]
  },
  {
   "cell_type": "code",
   "execution_count": 12,
   "metadata": {},
   "outputs": [],
   "source": [
    "## SEU CÓDIGO AQUI ##\n",
    "\n",
    "\n",
    "## SEU CÓDIGO AQUI ##"
   ]
  },
  {
   "cell_type": "markdown",
   "metadata": {},
   "source": [
    "ATENÇÃO!!!\n",
    "\n",
    "Valores booleanos (True e False) são registrados pelo python, respectivamente, como 1 e 0. Então as operações utilizando esse tipo de dados seguirão sendo executadas utilizando os valores númericos. São raras as situações que utilizamos soma de valores inteiros com valores booleanos, mas fica a dica."
   ]
  },
  {
   "cell_type": "code",
   "execution_count": 13,
   "metadata": {},
   "outputs": [
    {
     "data": {
      "text/plain": [
       "2"
      ]
     },
     "execution_count": 13,
     "metadata": {},
     "output_type": "execute_result"
    }
   ],
   "source": [
    "True + 1"
   ]
  },
  {
   "cell_type": "code",
   "execution_count": 14,
   "metadata": {},
   "outputs": [
    {
     "data": {
      "text/plain": [
       "3"
      ]
     },
     "execution_count": 14,
     "metadata": {},
     "output_type": "execute_result"
    }
   ],
   "source": [
    "False + 3"
   ]
  },
  {
   "cell_type": "code",
   "execution_count": 15,
   "metadata": {},
   "outputs": [
    {
     "data": {
      "text/plain": [
       "2"
      ]
     },
     "execution_count": 15,
     "metadata": {},
     "output_type": "execute_result"
    }
   ],
   "source": [
    "True + True"
   ]
  },
  {
   "cell_type": "code",
   "execution_count": 16,
   "metadata": {},
   "outputs": [
    {
     "data": {
      "text/plain": [
       "1"
      ]
     },
     "execution_count": 16,
     "metadata": {},
     "output_type": "execute_result"
    }
   ],
   "source": [
    "True - False"
   ]
  },
  {
   "cell_type": "markdown",
   "metadata": {},
   "source": [
    "### Limitações e operação com strings\n",
    "\n",
    "Nem todos os tipos de dados podem ser alvos de operações. Veja os exemplos abaixos."
   ]
  },
  {
   "cell_type": "code",
   "execution_count": 17,
   "metadata": {},
   "outputs": [
    {
     "data": {
      "text/plain": [
       "'Eu estou aprendendo python'"
      ]
     },
     "execution_count": 17,
     "metadata": {},
     "output_type": "execute_result"
    }
   ],
   "source": [
    "minha_string"
   ]
  },
  {
   "cell_type": "code",
   "execution_count": 18,
   "metadata": {},
   "outputs": [
    {
     "data": {
      "text/plain": [
       "10"
      ]
     },
     "execution_count": 18,
     "metadata": {},
     "output_type": "execute_result"
    }
   ],
   "source": [
    "x"
   ]
  },
  {
   "cell_type": "markdown",
   "metadata": {},
   "source": [
    "Vamos tentar somar uma string (texto) com um valor inteiro (int)."
   ]
  },
  {
   "cell_type": "code",
   "execution_count": 19,
   "metadata": {},
   "outputs": [
    {
     "ename": "TypeError",
     "evalue": "can only concatenate str (not \"int\") to str",
     "output_type": "error",
     "traceback": [
      "\u001b[0;31m---------------------------------------------------------------------------\u001b[0m",
      "\u001b[0;31mTypeError\u001b[0m                                 Traceback (most recent call last)",
      "\u001b[0;32m<ipython-input-19-79151755d29f>\u001b[0m in \u001b[0;36m<module>\u001b[0;34m\u001b[0m\n\u001b[0;32m----> 1\u001b[0;31m \u001b[0mminha_string\u001b[0m \u001b[0;34m+\u001b[0m \u001b[0mx\u001b[0m\u001b[0;34m\u001b[0m\u001b[0;34m\u001b[0m\u001b[0m\n\u001b[0m",
      "\u001b[0;31mTypeError\u001b[0m: can only concatenate str (not \"int\") to str"
     ]
    }
   ],
   "source": [
    "minha_string + x"
   ]
  },
  {
   "cell_type": "markdown",
   "metadata": {},
   "source": [
    "Algo de interessante de notar é que podemos trabalhar com multiplacação com strings."
   ]
  },
  {
   "cell_type": "code",
   "execution_count": 20,
   "metadata": {},
   "outputs": [
    {
     "data": {
      "text/plain": [
       "'Eu estou aprendendo python'"
      ]
     },
     "execution_count": 20,
     "metadata": {},
     "output_type": "execute_result"
    }
   ],
   "source": [
    "minha_string"
   ]
  },
  {
   "cell_type": "code",
   "execution_count": 21,
   "metadata": {},
   "outputs": [
    {
     "data": {
      "text/plain": [
       "'Eu estou aprendendo pythonEu estou aprendendo python'"
      ]
     },
     "execution_count": 21,
     "metadata": {},
     "output_type": "execute_result"
    }
   ],
   "source": [
    "minha_string * 2"
   ]
  },
  {
   "cell_type": "code",
   "execution_count": 22,
   "metadata": {},
   "outputs": [
    {
     "data": {
      "text/plain": [
       "'Eu estou aprendendo pythonEu estou aprendendo pythonEu estou aprendendo pythonEu estou aprendendo pythonEu estou aprendendo pythonEu estou aprendendo pythonEu estou aprendendo pythonEu estou aprendendo pythonEu estou aprendendo pythonEu estou aprendendo pythonEu estou aprendendo pythonEu estou aprendendo pythonEu estou aprendendo pythonEu estou aprendendo pythonEu estou aprendendo pythonEu estou aprendendo pythonEu estou aprendendo pythonEu estou aprendendo pythonEu estou aprendendo pythonEu estou aprendendo pythonEu estou aprendendo pythonEu estou aprendendo pythonEu estou aprendendo pythonEu estou aprendendo pythonEu estou aprendendo pythonEu estou aprendendo pythonEu estou aprendendo pythonEu estou aprendendo pythonEu estou aprendendo pythonEu estou aprendendo pythonEu estou aprendendo pythonEu estou aprendendo pythonEu estou aprendendo pythonEu estou aprendendo pythonEu estou aprendendo pythonEu estou aprendendo pythonEu estou aprendendo pythonEu estou aprendendo pythonEu estou aprendendo pythonEu estou aprendendo pythonEu estou aprendendo pythonEu estou aprendendo pythonEu estou aprendendo pythonEu estou aprendendo pythonEu estou aprendendo pythonEu estou aprendendo pythonEu estou aprendendo pythonEu estou aprendendo pythonEu estou aprendendo pythonEu estou aprendendo pythonEu estou aprendendo pythonEu estou aprendendo pythonEu estou aprendendo pythonEu estou aprendendo pythonEu estou aprendendo pythonEu estou aprendendo pythonEu estou aprendendo pythonEu estou aprendendo pythonEu estou aprendendo pythonEu estou aprendendo pythonEu estou aprendendo pythonEu estou aprendendo pythonEu estou aprendendo pythonEu estou aprendendo pythonEu estou aprendendo pythonEu estou aprendendo pythonEu estou aprendendo pythonEu estou aprendendo pythonEu estou aprendendo pythonEu estou aprendendo pythonEu estou aprendendo pythonEu estou aprendendo pythonEu estou aprendendo pythonEu estou aprendendo pythonEu estou aprendendo pythonEu estou aprendendo pythonEu estou aprendendo pythonEu estou aprendendo pythonEu estou aprendendo pythonEu estou aprendendo pythonEu estou aprendendo pythonEu estou aprendendo pythonEu estou aprendendo pythonEu estou aprendendo pythonEu estou aprendendo pythonEu estou aprendendo pythonEu estou aprendendo pythonEu estou aprendendo pythonEu estou aprendendo pythonEu estou aprendendo pythonEu estou aprendendo pythonEu estou aprendendo pythonEu estou aprendendo pythonEu estou aprendendo pythonEu estou aprendendo pythonEu estou aprendendo pythonEu estou aprendendo pythonEu estou aprendendo pythonEu estou aprendendo pythonEu estou aprendendo python'"
      ]
     },
     "execution_count": 22,
     "metadata": {},
     "output_type": "execute_result"
    }
   ],
   "source": [
    "minha_string * 100"
   ]
  },
  {
   "cell_type": "markdown",
   "metadata": {},
   "source": [
    "### Exércicio!!!!\n",
    "\n",
    "Crie novas variáveis e tente executar as operações matemáticas comuns utilizando elas. Desafio: tente misturar e criar varios tipos de dados diferentes."
   ]
  },
  {
   "cell_type": "code",
   "execution_count": 23,
   "metadata": {},
   "outputs": [],
   "source": [
    "## SEU CÓDIGO AQUI ##\n",
    "\n",
    "\n",
    "## SEU CÓDIGO AQUI ##"
   ]
  },
  {
   "cell_type": "markdown",
   "metadata": {},
   "source": [
    "___"
   ]
  },
  {
   "cell_type": "markdown",
   "metadata": {},
   "source": [
    "## Estrutura de dados"
   ]
  },
  {
   "cell_type": "markdown",
   "metadata": {},
   "source": [
    "## Listas\n",
    "\n",
    "Listas em python podem ter tipos de dados dentro delas. São definidas pelo símbolo ```[]``` e tem seus objetos internos divididos por vírgula. As listas podem ser alteradas e são objetos ITERÁVEIS."
   ]
  },
  {
   "cell_type": "code",
   "execution_count": 24,
   "metadata": {},
   "outputs": [],
   "source": [
    "## criando uma lista\n",
    "\n",
    "minha_lista = [1,2,3,4,5,6,7,8,9,10]"
   ]
  },
  {
   "cell_type": "code",
   "execution_count": 25,
   "metadata": {},
   "outputs": [
    {
     "data": {
      "text/plain": [
       "[1, 2, 3, 4, 5, 6, 7, 8, 9, 10]"
      ]
     },
     "execution_count": 25,
     "metadata": {},
     "output_type": "execute_result"
    }
   ],
   "source": [
    "minha_lista"
   ]
  },
  {
   "cell_type": "code",
   "execution_count": 26,
   "metadata": {},
   "outputs": [],
   "source": [
    "## criando uma lista com vários tipos de dados\n",
    "\n",
    "num = 12\n",
    "\n",
    "segunda_lista = [1,2,3.3,['a','b','c'],num]"
   ]
  },
  {
   "cell_type": "code",
   "execution_count": 27,
   "metadata": {},
   "outputs": [
    {
     "data": {
      "text/plain": [
       "[1, 2, 3.3, ['a', 'b', 'c'], 12]"
      ]
     },
     "execution_count": 27,
     "metadata": {},
     "output_type": "execute_result"
    }
   ],
   "source": [
    "segunda_lista"
   ]
  },
  {
   "cell_type": "markdown",
   "metadata": {},
   "source": [
    "Podemos acessar valores em locais específicos de uma lista utilizando também o símbolo ```[]```"
   ]
  },
  {
   "cell_type": "code",
   "execution_count": 28,
   "metadata": {},
   "outputs": [
    {
     "data": {
      "text/plain": [
       "1"
      ]
     },
     "execution_count": 28,
     "metadata": {},
     "output_type": "execute_result"
    }
   ],
   "source": [
    "## selecionando somente o primeiro valor da lista\n",
    "\n",
    "segunda_lista[0]"
   ]
  },
  {
   "cell_type": "code",
   "execution_count": 29,
   "metadata": {},
   "outputs": [
    {
     "data": {
      "text/plain": [
       "['a', 'b', 'c']"
      ]
     },
     "execution_count": 29,
     "metadata": {},
     "output_type": "execute_result"
    }
   ],
   "source": [
    "## acessando o quarto valor da lista\n",
    "\n",
    "segunda_lista[3]"
   ]
  },
  {
   "cell_type": "code",
   "execution_count": 30,
   "metadata": {},
   "outputs": [
    {
     "data": {
      "text/plain": [
       "'a'"
      ]
     },
     "execution_count": 30,
     "metadata": {},
     "output_type": "execute_result"
    }
   ],
   "source": [
    "## acessando o primeiro valor da lista contida na quarta posição de segunda_lista\n",
    "\n",
    "segunda_lista[3][0]"
   ]
  },
  {
   "cell_type": "markdown",
   "metadata": {},
   "source": [
    "Valores dentro das listas podem ser alterados e redefinios, basta selecionar a posição e indicar o novo conteúdo."
   ]
  },
  {
   "cell_type": "code",
   "execution_count": 31,
   "metadata": {},
   "outputs": [
    {
     "data": {
      "text/plain": [
       "[1, 2, 3.3, ['a', 'b', 'c'], 12]"
      ]
     },
     "execution_count": 31,
     "metadata": {},
     "output_type": "execute_result"
    }
   ],
   "source": [
    "## verificando os valores originais de segunda_lista\n",
    "\n",
    "segunda_lista"
   ]
  },
  {
   "cell_type": "code",
   "execution_count": 32,
   "metadata": {},
   "outputs": [
    {
     "data": {
      "text/plain": [
       "[1, 2, 3.3, ['a', 'b', 'c'], 'lasanha não é café da manhã']"
      ]
     },
     "execution_count": 32,
     "metadata": {},
     "output_type": "execute_result"
    }
   ],
   "source": [
    "## modificando o último valor de segunda_lista\n",
    "\n",
    "segunda_lista[-1] = 'lasanha não é café da manhã'\n",
    "segunda_lista"
   ]
  },
  {
   "cell_type": "markdown",
   "metadata": {},
   "source": [
    "As lista possuem métodos que podem ser acessados utilizando ```.```\n",
    "\n",
    "Esses métodos são imporantes e ajudam no trabalho com listas."
   ]
  },
  {
   "cell_type": "code",
   "execution_count": 33,
   "metadata": {},
   "outputs": [
    {
     "data": {
      "text/plain": [
       "[1, 2, 3.3, ['a', 'b', 'c'], 'lasanha não é café da manhã']"
      ]
     },
     "execution_count": 33,
     "metadata": {},
     "output_type": "execute_result"
    }
   ],
   "source": [
    "## verificando segunda_lista\n",
    "\n",
    "segunda_lista"
   ]
  },
  {
   "cell_type": "code",
   "execution_count": 34,
   "metadata": {},
   "outputs": [],
   "source": [
    "## Adicionando um novo valor ao final de segunda_lista\n",
    "\n",
    "segunda_lista.append(19)"
   ]
  },
  {
   "cell_type": "code",
   "execution_count": 35,
   "metadata": {},
   "outputs": [
    {
     "data": {
      "text/plain": [
       "[1, 2, 3.3, ['a', 'b', 'c'], 'lasanha não é café da manhã', 19]"
      ]
     },
     "execution_count": 35,
     "metadata": {},
     "output_type": "execute_result"
    }
   ],
   "source": [
    "## verificando novamente segunda_lista\n",
    "\n",
    "segunda_lista"
   ]
  },
  {
   "cell_type": "markdown",
   "metadata": {},
   "source": [
    "O ```.append``` serve justamente para adicionar novos valores ao final das listas."
   ]
  },
  {
   "cell_type": "code",
   "execution_count": 36,
   "metadata": {},
   "outputs": [
    {
     "data": {
      "text/plain": [
       "[1,\n",
       " 2,\n",
       " 3.3,\n",
       " ['a', 'b', 'c'],\n",
       " 'lasanha não é café da manhã',\n",
       " 19,\n",
       " 'suco de laranja',\n",
       " 'ovos',\n",
       " 'bacon']"
      ]
     },
     "execution_count": 36,
     "metadata": {},
     "output_type": "execute_result"
    }
   ],
   "source": [
    "## extendendo o tamanho de segunda_lista, adicionando uma lista ao final dela\n",
    "\n",
    "segunda_lista.extend(['suco de laranja','ovos','bacon'])\n",
    "segunda_lista"
   ]
  },
  {
   "cell_type": "markdown",
   "metadata": {},
   "source": [
    "O ```.extend``` pode ser sempre utilizado quando precisamos concatenar duas listas, adicionando os valores da segunda ao final da primeira."
   ]
  },
  {
   "cell_type": "code",
   "execution_count": 37,
   "metadata": {},
   "outputs": [],
   "source": [
    "## adicionando um valor no meio da lista\n",
    "\n",
    "segunda_lista.insert(1,1.5)"
   ]
  },
  {
   "cell_type": "code",
   "execution_count": 38,
   "metadata": {},
   "outputs": [
    {
     "data": {
      "text/plain": [
       "[1,\n",
       " 1.5,\n",
       " 2,\n",
       " 3.3,\n",
       " ['a', 'b', 'c'],\n",
       " 'lasanha não é café da manhã',\n",
       " 19,\n",
       " 'suco de laranja',\n",
       " 'ovos',\n",
       " 'bacon']"
      ]
     },
     "execution_count": 38,
     "metadata": {},
     "output_type": "execute_result"
    }
   ],
   "source": [
    "segunda_lista"
   ]
  },
  {
   "cell_type": "code",
   "execution_count": 39,
   "metadata": {},
   "outputs": [
    {
     "data": {
      "text/plain": [
       "[1,\n",
       " 2,\n",
       " 3.3,\n",
       " ['a', 'b', 'c'],\n",
       " 'lasanha não é café da manhã',\n",
       " 19,\n",
       " 'suco de laranja',\n",
       " 'ovos',\n",
       " 'bacon']"
      ]
     },
     "execution_count": 39,
     "metadata": {},
     "output_type": "execute_result"
    }
   ],
   "source": [
    "## removendo um valor da lista\n",
    "\n",
    "segunda_lista.remove(1.5)\n",
    "segunda_lista"
   ]
  },
  {
   "cell_type": "code",
   "execution_count": 40,
   "metadata": {},
   "outputs": [
    {
     "data": {
      "text/plain": [
       "['a', 'b', 'c']"
      ]
     },
     "execution_count": 40,
     "metadata": {},
     "output_type": "execute_result"
    }
   ],
   "source": [
    "## remove um valor e o retorna\n",
    "\n",
    "segunda_lista.pop(3)"
   ]
  },
  {
   "cell_type": "code",
   "execution_count": 41,
   "metadata": {},
   "outputs": [
    {
     "data": {
      "text/plain": [
       "[1,\n",
       " 2,\n",
       " 3.3,\n",
       " 'lasanha não é café da manhã',\n",
       " 19,\n",
       " 'suco de laranja',\n",
       " 'ovos',\n",
       " 'bacon']"
      ]
     },
     "execution_count": 41,
     "metadata": {},
     "output_type": "execute_result"
    }
   ],
   "source": [
    "segunda_lista"
   ]
  },
  {
   "cell_type": "code",
   "execution_count": 42,
   "metadata": {},
   "outputs": [
    {
     "data": {
      "text/plain": [
       "6"
      ]
     },
     "execution_count": 42,
     "metadata": {},
     "output_type": "execute_result"
    }
   ],
   "source": [
    "## procurando um valor na lista\n",
    "\n",
    "segunda_lista.index('ovos')"
   ]
  },
  {
   "cell_type": "code",
   "execution_count": 43,
   "metadata": {},
   "outputs": [
    {
     "data": {
      "text/plain": [
       "0"
      ]
     },
     "execution_count": 43,
     "metadata": {},
     "output_type": "execute_result"
    }
   ],
   "source": [
    "## contando quantos valores temos na lista\n",
    "\n",
    "segunda_lista.count(10)"
   ]
  },
  {
   "cell_type": "code",
   "execution_count": 44,
   "metadata": {},
   "outputs": [
    {
     "data": {
      "text/plain": [
       "1"
      ]
     },
     "execution_count": 44,
     "metadata": {},
     "output_type": "execute_result"
    }
   ],
   "source": [
    "segunda_lista.count(19)"
   ]
  },
  {
   "cell_type": "code",
   "execution_count": 45,
   "metadata": {},
   "outputs": [],
   "source": [
    "## definindo uma nova lista\n",
    "\n",
    "nova_lista = [False,30,40,-20,1,2,40,998,-23,-33,-6,88.6,25.3,-12.3,-11.235]"
   ]
  },
  {
   "cell_type": "code",
   "execution_count": 46,
   "metadata": {},
   "outputs": [
    {
     "data": {
      "text/plain": [
       "[-33, -23, -20, -12.3, -11.235, -6, False, 1, 2, 25.3, 30, 40, 40, 88.6, 998]"
      ]
     },
     "execution_count": 46,
     "metadata": {},
     "output_type": "execute_result"
    }
   ],
   "source": [
    "## organizando a nova lista\n",
    "\n",
    "nova_lista.sort()\n",
    "nova_lista"
   ]
  },
  {
   "cell_type": "code",
   "execution_count": 47,
   "metadata": {},
   "outputs": [
    {
     "data": {
      "text/plain": [
       "[998, 88.6, 40, 40, 30, 25.3, 2, 1, False, -6, -11.235, -12.3, -20, -23, -33]"
      ]
     },
     "execution_count": 47,
     "metadata": {},
     "output_type": "execute_result"
    }
   ],
   "source": [
    "## organizando a lista na ordem reversa\n",
    "\n",
    "nova_lista.sort(reverse=True)\n",
    "nova_lista"
   ]
  },
  {
   "cell_type": "code",
   "execution_count": 48,
   "metadata": {},
   "outputs": [
    {
     "data": {
      "text/plain": [
       "15"
      ]
     },
     "execution_count": 48,
     "metadata": {},
     "output_type": "execute_result"
    }
   ],
   "source": [
    "## não métodos, porém super importantes!!!\n",
    "\n",
    "len(nova_lista)"
   ]
  },
  {
   "cell_type": "code",
   "execution_count": 49,
   "metadata": {},
   "outputs": [
    {
     "data": {
      "text/plain": [
       "-33"
      ]
     },
     "execution_count": 49,
     "metadata": {},
     "output_type": "execute_result"
    }
   ],
   "source": [
    "min(nova_lista)"
   ]
  },
  {
   "cell_type": "code",
   "execution_count": 50,
   "metadata": {},
   "outputs": [
    {
     "data": {
      "text/plain": [
       "998"
      ]
     },
     "execution_count": 50,
     "metadata": {},
     "output_type": "execute_result"
    }
   ],
   "source": [
    "max(nova_lista)"
   ]
  },
  {
   "cell_type": "markdown",
   "metadata": {},
   "source": [
    "### Exércicios!!!!"
   ]
  },
  {
   "cell_type": "markdown",
   "metadata": {},
   "source": [
    "1 - Crie uma lista 'a_list' com os seguintes valores: 1, hello, [1,2,3] e True."
   ]
  },
  {
   "cell_type": "code",
   "execution_count": 153,
   "metadata": {},
   "outputs": [],
   "source": [
    "## SEU CÓDIGO AQUI ##\n",
    "\n",
    "\n",
    "## SEU CÓDIGO AQUI ##"
   ]
  },
  {
   "cell_type": "markdown",
   "metadata": {},
   "source": [
    "2 - Ache o valor em 'a_list' que esteja no índice -1"
   ]
  },
  {
   "cell_type": "code",
   "execution_count": 154,
   "metadata": {},
   "outputs": [],
   "source": [
    "## SEU CÓDIGO AQUI ##\n",
    "\n",
    "\n",
    "## SEU CÓDIGO AQUI ##"
   ]
  },
  {
   "cell_type": "markdown",
   "metadata": {},
   "source": [
    "3 - Encontre os valores em 'a_list' que estejam nos indices 1,2 e 3\n"
   ]
  },
  {
   "cell_type": "code",
   "execution_count": 155,
   "metadata": {},
   "outputs": [],
   "source": [
    "## SEU CÓDIGO AQUI ##\n",
    "\n",
    "\n",
    "## SEU CÓDIGO AQUI ##"
   ]
  },
  {
   "cell_type": "markdown",
   "metadata": {},
   "source": [
    "4 - Junte as seguinte listas A=[1,2,3,4,5] e B=[11,12,13,14,15]\n"
   ]
  },
  {
   "cell_type": "code",
   "execution_count": 156,
   "metadata": {},
   "outputs": [],
   "source": [
    "## SEU CÓDIGO AQUI ##\n",
    "\n",
    "\n",
    "## SEU CÓDIGO AQUI ##"
   ]
  },
  {
   "cell_type": "markdown",
   "metadata": {},
   "source": [
    "5 - Crie uma lista de listas 'list_list' que tenha os valores de 'a_list', 'A' e 'B'\n"
   ]
  },
  {
   "cell_type": "code",
   "execution_count": 157,
   "metadata": {},
   "outputs": [],
   "source": [
    "## SEU CÓDIGO AQUI ##\n",
    "\n",
    "\n",
    "## SEU CÓDIGO AQUI ##"
   ]
  },
  {
   "cell_type": "markdown",
   "metadata": {},
   "source": [
    "6 - Qual o tamanho de 'list_list'?\n"
   ]
  },
  {
   "cell_type": "code",
   "execution_count": 158,
   "metadata": {},
   "outputs": [],
   "source": [
    "## SEU CÓDIGO AQUI ##\n",
    "\n",
    "\n",
    "## SEU CÓDIGO AQUI ##"
   ]
  },
  {
   "cell_type": "markdown",
   "metadata": {},
   "source": [
    "7 - Adicione o valor 125 a 'list_list'"
   ]
  },
  {
   "cell_type": "code",
   "execution_count": 159,
   "metadata": {},
   "outputs": [],
   "source": [
    "## SEU CÓDIGO AQUI ##\n",
    "\n",
    "\n",
    "## SEU CÓDIGO AQUI ##"
   ]
  },
  {
   "cell_type": "markdown",
   "metadata": {},
   "source": [
    "## Tuplas\n",
    "\n",
    "Tuplas são sequências IMUTÁVEIS. São bem parecidas com listas porem são iniciadas com os símbolos ```()```. Elas podem receber qualquer tipo de objeto e são iteráveis."
   ]
  },
  {
   "cell_type": "code",
   "execution_count": 51,
   "metadata": {},
   "outputs": [],
   "source": [
    "## definido tupla1\n",
    "\n",
    "tupla1 = (1,2,3,4,5,6,7,'a','b')"
   ]
  },
  {
   "cell_type": "code",
   "execution_count": 52,
   "metadata": {},
   "outputs": [
    {
     "ename": "TypeError",
     "evalue": "'tuple' object does not support item assignment",
     "output_type": "error",
     "traceback": [
      "\u001b[0;31m---------------------------------------------------------------------------\u001b[0m",
      "\u001b[0;31mTypeError\u001b[0m                                 Traceback (most recent call last)",
      "\u001b[0;32m<ipython-input-52-c78596bf26b3>\u001b[0m in \u001b[0;36m<module>\u001b[0;34m\u001b[0m\n\u001b[1;32m      1\u001b[0m \u001b[0;31m## tuplas não aceitam qualquer tipo de alteração de valores já definidos\u001b[0m\u001b[0;34m\u001b[0m\u001b[0;34m\u001b[0m\u001b[0;34m\u001b[0m\u001b[0m\n\u001b[1;32m      2\u001b[0m \u001b[0;34m\u001b[0m\u001b[0m\n\u001b[0;32m----> 3\u001b[0;31m \u001b[0mtupla1\u001b[0m\u001b[0;34m[\u001b[0m\u001b[0;34m-\u001b[0m\u001b[0;36m1\u001b[0m\u001b[0;34m]\u001b[0m \u001b[0;34m=\u001b[0m \u001b[0;36m0\u001b[0m\u001b[0;34m\u001b[0m\u001b[0;34m\u001b[0m\u001b[0m\n\u001b[0m",
      "\u001b[0;31mTypeError\u001b[0m: 'tuple' object does not support item assignment"
     ]
    }
   ],
   "source": [
    "## tuplas não aceitam qualquer tipo de alteração de valores já definidos\n",
    "\n",
    "tupla1[-1] = 0"
   ]
  },
  {
   "cell_type": "code",
   "execution_count": 53,
   "metadata": {},
   "outputs": [
    {
     "data": {
      "text/plain": [
       "(1, 2, 3, 4, 5, 6)"
      ]
     },
     "execution_count": 53,
     "metadata": {},
     "output_type": "execute_result"
    }
   ],
   "source": [
    "## somando tuplas\n",
    "\n",
    "(1,2,3) + (4,5,6)"
   ]
  },
  {
   "cell_type": "code",
   "execution_count": 54,
   "metadata": {},
   "outputs": [
    {
     "data": {
      "text/plain": [
       "1"
      ]
     },
     "execution_count": 54,
     "metadata": {},
     "output_type": "execute_result"
    }
   ],
   "source": [
    "## indexing\n",
    "\n",
    "tupla1[0]"
   ]
  },
  {
   "cell_type": "code",
   "execution_count": 55,
   "metadata": {},
   "outputs": [
    {
     "data": {
      "text/plain": [
       "(1, 2)"
      ]
     },
     "execution_count": 55,
     "metadata": {},
     "output_type": "execute_result"
    }
   ],
   "source": [
    "## slicing\n",
    "\n",
    "tupla1[:2]"
   ]
  },
  {
   "cell_type": "code",
   "execution_count": 56,
   "metadata": {},
   "outputs": [
    {
     "data": {
      "text/plain": [
       "(1, 3, 5, 7, 'b')"
      ]
     },
     "execution_count": 56,
     "metadata": {},
     "output_type": "execute_result"
    }
   ],
   "source": [
    "## slicing a cada dois valores\n",
    "\n",
    "tupla1[::2]"
   ]
  },
  {
   "cell_type": "markdown",
   "metadata": {},
   "source": [
    "As formas de slicing demonstradas acima também funcionam para listas e strings."
   ]
  },
  {
   "cell_type": "code",
   "execution_count": 57,
   "metadata": {},
   "outputs": [],
   "source": [
    "lista = [1,2,3,4,5,6,7,8,9,10]"
   ]
  },
  {
   "cell_type": "code",
   "execution_count": 58,
   "metadata": {},
   "outputs": [
    {
     "data": {
      "text/plain": [
       "[1, 3, 5, 7, 9]"
      ]
     },
     "execution_count": 58,
     "metadata": {},
     "output_type": "execute_result"
    }
   ],
   "source": [
    "lista[::2]"
   ]
  },
  {
   "cell_type": "code",
   "execution_count": 63,
   "metadata": {},
   "outputs": [
    {
     "data": {
      "text/plain": [
       "'Eeoaeeoyo'"
      ]
     },
     "execution_count": 63,
     "metadata": {},
     "output_type": "execute_result"
    }
   ],
   "source": [
    "minha_string[::3]"
   ]
  },
  {
   "cell_type": "code",
   "execution_count": 64,
   "metadata": {},
   "outputs": [],
   "source": [
    "## definido outra tupla\n",
    "\n",
    "tupla_complexa = (1,2,3,4,('a','b','c'))"
   ]
  },
  {
   "cell_type": "code",
   "execution_count": 65,
   "metadata": {},
   "outputs": [
    {
     "data": {
      "text/plain": [
       "'a'"
      ]
     },
     "execution_count": 65,
     "metadata": {},
     "output_type": "execute_result"
    }
   ],
   "source": [
    "## acesando valores dentro da tupla\n",
    "\n",
    "tupla_complexa[-1][0]"
   ]
  },
  {
   "cell_type": "code",
   "execution_count": 67,
   "metadata": {},
   "outputs": [
    {
     "data": {
      "text/plain": [
       "(1, 2, 3, 4, 5, 6, 7, 8, 9, 10)"
      ]
     },
     "execution_count": 67,
     "metadata": {},
     "output_type": "execute_result"
    }
   ],
   "source": [
    "## podemos transformar uma lista em tupla\n",
    "\n",
    "tuple(lista)"
   ]
  },
  {
   "cell_type": "markdown",
   "metadata": {},
   "source": [
    "### Exércicios!!!!"
   ]
  },
  {
   "cell_type": "markdown",
   "metadata": {},
   "source": [
    "10 - Crie a tupla 'gnr' com os seguintes valores: rock, metal, sertanejo, pop, lo-fi e chillwave, nessa ordem."
   ]
  },
  {
   "cell_type": "code",
   "execution_count": 159,
   "metadata": {},
   "outputs": [],
   "source": [
    "## SEU CÓDIGO AQUI ##\n",
    "\n",
    "\n",
    "## SEU CÓDIGO AQUI ##"
   ]
  },
  {
   "cell_type": "markdown",
   "metadata": {},
   "source": [
    "11 - Qual o terceiro valor da tupla 'gnr'?"
   ]
  },
  {
   "cell_type": "code",
   "execution_count": 159,
   "metadata": {},
   "outputs": [],
   "source": [
    "## SEU CÓDIGO AQUI ##\n",
    "\n",
    "\n",
    "## SEU CÓDIGO AQUI ##"
   ]
  },
  {
   "cell_type": "markdown",
   "metadata": {},
   "source": [
    "12 - Qual o índice de lofi?"
   ]
  },
  {
   "cell_type": "code",
   "execution_count": 159,
   "metadata": {},
   "outputs": [],
   "source": [
    "## SEU CÓDIGO AQUI ##\n",
    "\n",
    "\n",
    "## SEU CÓDIGO AQUI ##"
   ]
  },
  {
   "cell_type": "markdown",
   "metadata": {},
   "source": [
    "13 - Crie uma tupla de tuplas com as seguintes tuplas (15,30), (20,40) e (25,50). Qual o índice do valor 40?"
   ]
  },
  {
   "cell_type": "code",
   "execution_count": 159,
   "metadata": {},
   "outputs": [],
   "source": [
    "## SEU CÓDIGO AQUI ##\n",
    "\n",
    "\n",
    "## SEU CÓDIGO AQUI ##"
   ]
  },
  {
   "cell_type": "markdown",
   "metadata": {},
   "source": [
    "14 - Acesse a tupla 'gnr' a cada dois valores, qual gêneros musicais aparecem?"
   ]
  },
  {
   "cell_type": "code",
   "execution_count": 159,
   "metadata": {},
   "outputs": [],
   "source": [
    "## SEU CÓDIGO AQUI ##\n",
    "\n",
    "\n",
    "## SEU CÓDIGO AQUI ##"
   ]
  },
  {
   "cell_type": "markdown",
   "metadata": {},
   "source": [
    "## Sets\n",
    "\n",
    "Sets sao coleções de itens de forma desordenada, são parcialmente imutáveis e todos os valores do set são únicos. Podemos criar um set a partir da função nativa ```set()```."
   ]
  },
  {
   "cell_type": "code",
   "execution_count": 76,
   "metadata": {},
   "outputs": [
    {
     "data": {
      "text/plain": [
       "93"
      ]
     },
     "execution_count": 76,
     "metadata": {},
     "output_type": "execute_result"
    }
   ],
   "source": [
    "lista_longa = [1,1,1,1,1,1,2,2,2,2,2,2,2,2,2,2,2,2,2,2,2,2,2,2,2,2,3,3,3,3,3,3,3,3,3,3,3,3,3,3,3,3,3,3,4,4,4,4,4,4,4,4,5,5,5,5,5,5,5,5,5,5,5,5,5,5,5,5,5,5,6,6,6,6,6,6,6,6,7,7,7,7,7,7,8,8,8,8,8,8,9,9,9]\n",
    "len(lista_longa)"
   ]
  },
  {
   "cell_type": "code",
   "execution_count": 77,
   "metadata": {},
   "outputs": [
    {
     "data": {
      "text/plain": [
       "{1, 2, 3, 4, 5, 6, 7, 8, 9}"
      ]
     },
     "execution_count": 77,
     "metadata": {},
     "output_type": "execute_result"
    }
   ],
   "source": [
    "## criando um set\n",
    "meu_set = set(lista_longa)\n",
    "meu_set"
   ]
  },
  {
   "cell_type": "code",
   "execution_count": 78,
   "metadata": {},
   "outputs": [
    {
     "data": {
      "text/plain": [
       "{1, 2, 3, 4, 5, 6, 7, 8, 9, 15}"
      ]
     },
     "execution_count": 78,
     "metadata": {},
     "output_type": "execute_result"
    }
   ],
   "source": [
    "## adicionando elementos ao set\n",
    "\n",
    "meu_set.add(15)\n",
    "meu_set"
   ]
  },
  {
   "cell_type": "markdown",
   "metadata": {},
   "source": [
    "### Dicionários\n",
    "\n",
    "Dicionários em python é uma estrutura de dados caracterizada pelo seguinte símbolo ```{}```. Dicionários são iteráveis, desordenados, mutáveis e indexáveis. Todo dicionário em python possui chaves e valores. Os dicionários podem receber qualquer tipo de dados como valor."
   ]
  },
  {
   "cell_type": "code",
   "execution_count": 73,
   "metadata": {},
   "outputs": [],
   "source": [
    "## criando dicionários\n",
    "\n",
    "receita_strogonoff = {'coxao_mole':600,'manteiga':'1 colher_de_chá','cebola':1,'mostarda_dijon':'1 colher de sobremesa','cachaça':200,\n",
    "                     'pimenta-do-reino':1,'cogumelo':'1 xícara','cream-cheese':1}"
   ]
  },
  {
   "cell_type": "code",
   "execution_count": 74,
   "metadata": {},
   "outputs": [
    {
     "data": {
      "text/plain": [
       "{'coxao_mole': 600,\n",
       " 'manteiga': '1 colher_de_chá',\n",
       " 'cebola': 1,\n",
       " 'mostarda_dijon': '1 colher de sobremesa',\n",
       " 'cachaça': 200,\n",
       " 'pimenta-do-reino': 1,\n",
       " 'cogumelo': '1 xícara',\n",
       " 'cream-cheese': 1,\n",
       " 'sal': 'um pouco'}"
      ]
     },
     "execution_count": 74,
     "metadata": {},
     "output_type": "execute_result"
    }
   ],
   "source": [
    "## adicionando itens ao dicitonário\n",
    "\n",
    "receita_strogonoff['sal'] = 'um pouco'\n",
    "receita_strogonoff"
   ]
  },
  {
   "cell_type": "code",
   "execution_count": 75,
   "metadata": {},
   "outputs": [
    {
     "data": {
      "text/plain": [
       "{'coxao_mole': '500 gramas',\n",
       " 'manteiga': '1 colher_de_chá',\n",
       " 'cebola': 1,\n",
       " 'mostarda_dijon': '1 colher de sobremesa',\n",
       " 'cachaça': 200,\n",
       " 'pimenta-do-reino': 1,\n",
       " 'cogumelo': '1 xícara',\n",
       " 'cream-cheese': 1,\n",
       " 'sal': 'um pouco'}"
      ]
     },
     "execution_count": 75,
     "metadata": {},
     "output_type": "execute_result"
    }
   ],
   "source": [
    "## alterando um valor\n",
    "\n",
    "receita_strogonoff['coxao_mole'] = '500 gramas'\n",
    "receita_strogonoff"
   ]
  },
  {
   "cell_type": "code",
   "execution_count": 77,
   "metadata": {},
   "outputs": [
    {
     "data": {
      "text/plain": [
       "'1 colher de sobremesa'"
      ]
     },
     "execution_count": 77,
     "metadata": {},
     "output_type": "execute_result"
    }
   ],
   "source": [
    "## indexing\n",
    "\n",
    "receita_strogonoff['mostarda_dijon']"
   ]
  },
  {
   "cell_type": "code",
   "execution_count": 78,
   "metadata": {},
   "outputs": [
    {
     "data": {
      "text/plain": [
       "{'coxao_mole': '500 gramas',\n",
       " 'manteiga': '1 colher_de_chá',\n",
       " 'mostarda_dijon': '1 colher de sobremesa',\n",
       " 'cachaça': 200,\n",
       " 'pimenta-do-reino': 1,\n",
       " 'cogumelo': '1 xícara',\n",
       " 'cream-cheese': 1,\n",
       " 'sal': 'um pouco'}"
      ]
     },
     "execution_count": 78,
     "metadata": {},
     "output_type": "execute_result"
    }
   ],
   "source": [
    "## deletando um valor\n",
    "\n",
    "del receita_strogonoff['cebola']\n",
    "receita_strogonoff"
   ]
  },
  {
   "cell_type": "code",
   "execution_count": 79,
   "metadata": {},
   "outputs": [
    {
     "data": {
      "text/plain": [
       "dict_keys(['coxao_mole', 'manteiga', 'mostarda_dijon', 'cachaça', 'pimenta-do-reino', 'cogumelo', 'cream-cheese', 'sal'])"
      ]
     },
     "execution_count": 79,
     "metadata": {},
     "output_type": "execute_result"
    }
   ],
   "source": [
    "## acessando todas as chaves\n",
    "\n",
    "receita_strogonoff.keys()"
   ]
  },
  {
   "cell_type": "code",
   "execution_count": 80,
   "metadata": {},
   "outputs": [
    {
     "data": {
      "text/plain": [
       "dict_values(['500 gramas', '1 colher_de_chá', '1 colher de sobremesa', 200, 1, '1 xícara', 1, 'um pouco'])"
      ]
     },
     "execution_count": 80,
     "metadata": {},
     "output_type": "execute_result"
    }
   ],
   "source": [
    "## acesssando todos os valores\n",
    "\n",
    "receita_strogonoff.values()"
   ]
  },
  {
   "cell_type": "code",
   "execution_count": 81,
   "metadata": {},
   "outputs": [
    {
     "data": {
      "text/plain": [
       "{}"
      ]
     },
     "execution_count": 81,
     "metadata": {},
     "output_type": "execute_result"
    }
   ],
   "source": [
    "## jogar todos os valores fora\n",
    "\n",
    "receita_strogonoff.clear()\n",
    "receita_strogonoff"
   ]
  },
  {
   "cell_type": "markdown",
   "metadata": {},
   "source": [
    "### Exércicios!!!!"
   ]
  },
  {
   "cell_type": "markdown",
   "metadata": {},
   "source": [
    "15 - Crie o dicionário 'mcu' com os seguintes dados, 'Homem de Ferro':2008, 'Homem de Ferro 2':2010, 'Homem de ferro 3':2013, 'Avengers: Endgame':2019."
   ]
  },
  {
   "cell_type": "code",
   "execution_count": 159,
   "metadata": {},
   "outputs": [],
   "source": [
    "## SEU CÓDIGO AQUI ##\n",
    "\n",
    "\n",
    "## SEU CÓDIGO AQUI ##"
   ]
  },
  {
   "cell_type": "markdown",
   "metadata": {},
   "source": [
    "16 - No dicionário 'mcu' quais são os valores?"
   ]
  },
  {
   "cell_type": "code",
   "execution_count": 159,
   "metadata": {},
   "outputs": [],
   "source": [
    "## SEU CÓDIGO AQUI ##\n",
    "\n",
    "\n",
    "## SEU CÓDIGO AQUI ##"
   ]
  },
  {
   "cell_type": "markdown",
   "metadata": {},
   "source": [
    "17 - No dicińario 'mcu' quais são as chaves?"
   ]
  },
  {
   "cell_type": "code",
   "execution_count": 159,
   "metadata": {},
   "outputs": [],
   "source": [
    "## SEU CÓDIGO AQUI ##\n",
    "\n",
    "\n",
    "## SEU CÓDIGO AQUI ##"
   ]
  },
  {
   "cell_type": "markdown",
   "metadata": {},
   "source": [
    "18 - Adicione ao dicionário 'mcu' os seguintes filmes: 'Avengers Infinity War':2018, 'Avengers Age of Ultron':2015."
   ]
  },
  {
   "cell_type": "code",
   "execution_count": 159,
   "metadata": {},
   "outputs": [],
   "source": [
    "## SEU CÓDIGO AQUI ##\n",
    "\n",
    "\n",
    "## SEU CÓDIGO AQUI ##"
   ]
  },
  {
   "cell_type": "markdown",
   "metadata": {},
   "source": [
    "19 - Delete o filme 'Homem de Ferro 3' do dicionário 'mcu'"
   ]
  },
  {
   "cell_type": "code",
   "execution_count": 159,
   "metadata": {},
   "outputs": [],
   "source": [
    "## SEU CÓDIGO AQUI ##\n",
    "\n",
    "\n",
    "## SEU CÓDIGO AQUI ##"
   ]
  },
  {
   "cell_type": "markdown",
   "metadata": {},
   "source": [
    "20 - Limpe o dicionário 'mcu'"
   ]
  },
  {
   "cell_type": "code",
   "execution_count": 159,
   "metadata": {},
   "outputs": [],
   "source": [
    "## SEU CÓDIGO AQUI ##\n",
    "\n",
    "\n",
    "## SEU CÓDIGO AQUI ##"
   ]
  },
  {
   "cell_type": "markdown",
   "metadata": {},
   "source": [
    "___"
   ]
  },
  {
   "cell_type": "markdown",
   "metadata": {},
   "source": [
    "## Condições lógicas\n",
    "\n",
    "Condições lógicas em python se aplicam utilizando os operadores lógicos abaixo.\n",
    "\n",
    "| Operador | Descrição      | Exemplo |\n",
    "|----------|----------------|---------|\n",
    "| ==       | igual          | a == b  |\n",
    "| !=       | diferente      | a != b  |\n",
    "| >        | maior          | a > b   |\n",
    "| <        | menor          | a < b   |\n",
    "| >=       | maior ou igual | a >= b  |\n",
    "| <=       | menor ou igual | a <= b  |"
   ]
  },
  {
   "cell_type": "code",
   "execution_count": 91,
   "metadata": {},
   "outputs": [
    {
     "data": {
      "text/plain": [
       "False"
      ]
     },
     "execution_count": 91,
     "metadata": {},
     "output_type": "execute_result"
    }
   ],
   "source": [
    "## Sinal de igualdade\n",
    "\n",
    "'abc' == 'ABC'"
   ]
  },
  {
   "cell_type": "code",
   "execution_count": 92,
   "metadata": {},
   "outputs": [
    {
     "data": {
      "text/plain": [
       "False"
      ]
     },
     "execution_count": 92,
     "metadata": {},
     "output_type": "execute_result"
    }
   ],
   "source": [
    "## Sinal de igualdade\n",
    "\n",
    "1 == 2"
   ]
  },
  {
   "cell_type": "code",
   "execution_count": 93,
   "metadata": {},
   "outputs": [
    {
     "data": {
      "text/plain": [
       "True"
      ]
     },
     "execution_count": 93,
     "metadata": {},
     "output_type": "execute_result"
    }
   ],
   "source": [
    "## Sinal de Igualdade\n",
    "\n",
    "[1,2,3] == [1,2,3]"
   ]
  },
  {
   "cell_type": "code",
   "execution_count": 97,
   "metadata": {},
   "outputs": [
    {
     "data": {
      "text/plain": [
       "False"
      ]
     },
     "execution_count": 97,
     "metadata": {},
     "output_type": "execute_result"
    }
   ],
   "source": [
    "## Sinal de Igualdade\n",
    "\n",
    "[1,2,3] == (1,2,3)"
   ]
  },
  {
   "cell_type": "code",
   "execution_count": 98,
   "metadata": {},
   "outputs": [
    {
     "data": {
      "text/plain": [
       "True"
      ]
     },
     "execution_count": 98,
     "metadata": {},
     "output_type": "execute_result"
    }
   ],
   "source": [
    "## Sinal de diferente\n",
    "\n",
    "[1,2,3] != (1,2,3)"
   ]
  },
  {
   "cell_type": "code",
   "execution_count": 99,
   "metadata": {},
   "outputs": [
    {
     "data": {
      "text/plain": [
       "False"
      ]
     },
     "execution_count": 99,
     "metadata": {},
     "output_type": "execute_result"
    }
   ],
   "source": [
    "## Sinal de diferente\n",
    "\n",
    "[1,2,3] != [1,2,3]"
   ]
  },
  {
   "cell_type": "code",
   "execution_count": 100,
   "metadata": {},
   "outputs": [
    {
     "data": {
      "text/plain": [
       "True"
      ]
     },
     "execution_count": 100,
     "metadata": {},
     "output_type": "execute_result"
    }
   ],
   "source": [
    "## Sinal de diferente\n",
    "\n",
    "{'num':[1,2,3]} != [1,2,3]"
   ]
  },
  {
   "cell_type": "code",
   "execution_count": 101,
   "metadata": {},
   "outputs": [
    {
     "data": {
      "text/plain": [
       "True"
      ]
     },
     "execution_count": 101,
     "metadata": {},
     "output_type": "execute_result"
    }
   ],
   "source": [
    "## Sinal de diferente\n",
    "\n",
    "'bacon' != 'ruim'"
   ]
  },
  {
   "cell_type": "code",
   "execution_count": 103,
   "metadata": {},
   "outputs": [
    {
     "data": {
      "text/plain": [
       "False"
      ]
     },
     "execution_count": 103,
     "metadata": {},
     "output_type": "execute_result"
    }
   ],
   "source": [
    "## Sinal de maior\n",
    "\n",
    "10 > 15"
   ]
  },
  {
   "cell_type": "code",
   "execution_count": 104,
   "metadata": {},
   "outputs": [
    {
     "ename": "TypeError",
     "evalue": "'>' not supported between instances of 'str' and 'int'",
     "output_type": "error",
     "traceback": [
      "\u001b[0;31m---------------------------------------------------------------------------\u001b[0m",
      "\u001b[0;31mTypeError\u001b[0m                                 Traceback (most recent call last)",
      "\u001b[0;32m<ipython-input-104-1abf031a7dd0>\u001b[0m in \u001b[0;36m<module>\u001b[0;34m\u001b[0m\n\u001b[1;32m      1\u001b[0m \u001b[0;31m## Sinal de maior 2\u001b[0m\u001b[0;34m\u001b[0m\u001b[0;34m\u001b[0m\u001b[0;34m\u001b[0m\u001b[0m\n\u001b[1;32m      2\u001b[0m \u001b[0;34m\u001b[0m\u001b[0m\n\u001b[0;32m----> 3\u001b[0;31m \u001b[0;34m'bacon'\u001b[0m \u001b[0;34m>\u001b[0m \u001b[0;36m15\u001b[0m\u001b[0;34m\u001b[0m\u001b[0;34m\u001b[0m\u001b[0m\n\u001b[0m",
      "\u001b[0;31mTypeError\u001b[0m: '>' not supported between instances of 'str' and 'int'"
     ]
    }
   ],
   "source": [
    "## Sinal de maior 2\n",
    "\n",
    "'bacon' > 15"
   ]
  },
  {
   "cell_type": "code",
   "execution_count": 105,
   "metadata": {},
   "outputs": [
    {
     "data": {
      "text/plain": [
       "True"
      ]
     },
     "execution_count": 105,
     "metadata": {},
     "output_type": "execute_result"
    }
   ],
   "source": [
    "## Sinal de menor\n",
    "\n",
    "10 < 50"
   ]
  },
  {
   "cell_type": "code",
   "execution_count": 106,
   "metadata": {},
   "outputs": [
    {
     "ename": "TypeError",
     "evalue": "'<' not supported between instances of 'int' and 'str'",
     "output_type": "error",
     "traceback": [
      "\u001b[0;31m---------------------------------------------------------------------------\u001b[0m",
      "\u001b[0;31mTypeError\u001b[0m                                 Traceback (most recent call last)",
      "\u001b[0;32m<ipython-input-106-d88988298b23>\u001b[0m in \u001b[0;36m<module>\u001b[0;34m\u001b[0m\n\u001b[1;32m      1\u001b[0m \u001b[0;31m## Sinal de menor\u001b[0m\u001b[0;34m\u001b[0m\u001b[0;34m\u001b[0m\u001b[0;34m\u001b[0m\u001b[0m\n\u001b[1;32m      2\u001b[0m \u001b[0;34m\u001b[0m\u001b[0m\n\u001b[0;32m----> 3\u001b[0;31m \u001b[0;36m10\u001b[0m \u001b[0;34m<\u001b[0m \u001b[0;34m'bacon'\u001b[0m\u001b[0;34m\u001b[0m\u001b[0;34m\u001b[0m\u001b[0m\n\u001b[0m",
      "\u001b[0;31mTypeError\u001b[0m: '<' not supported between instances of 'int' and 'str'"
     ]
    }
   ],
   "source": [
    "## Sinal de menor\n",
    "\n",
    "10 < 'bacon'"
   ]
  },
  {
   "cell_type": "code",
   "execution_count": 107,
   "metadata": {},
   "outputs": [
    {
     "data": {
      "text/plain": [
       "True"
      ]
     },
     "execution_count": 107,
     "metadata": {},
     "output_type": "execute_result"
    }
   ],
   "source": [
    "## Sinal de maior ou igual\n",
    "\n",
    "10 >= 10"
   ]
  },
  {
   "cell_type": "code",
   "execution_count": 108,
   "metadata": {},
   "outputs": [
    {
     "data": {
      "text/plain": [
       "False"
      ]
     },
     "execution_count": 108,
     "metadata": {},
     "output_type": "execute_result"
    }
   ],
   "source": [
    "## Sinal de menor ou igual 1\n",
    "\n",
    "10 <= 9"
   ]
  },
  {
   "cell_type": "markdown",
   "metadata": {},
   "source": [
    "## IF"
   ]
  },
  {
   "cell_type": "markdown",
   "metadata": {},
   "source": [
    "Usamos a palavra ```if``` para avaliar uma condição e executamos o código logo abaixo dela caso a condição seja verdadeira."
   ]
  },
  {
   "cell_type": "code",
   "execution_count": 109,
   "metadata": {},
   "outputs": [],
   "source": [
    "salario = 1000"
   ]
  },
  {
   "cell_type": "code",
   "execution_count": 111,
   "metadata": {},
   "outputs": [
    {
     "name": "stdout",
     "output_type": "stream",
     "text": [
      "Hora de gastar!\n"
     ]
    }
   ],
   "source": [
    "if salario > 500:\n",
    "    print('Hora de gastar!')\n",
    "else:\n",
    "    print('É melhor deixar essa compra para depois!')"
   ]
  },
  {
   "cell_type": "code",
   "execution_count": 112,
   "metadata": {},
   "outputs": [
    {
     "name": "stdout",
     "output_type": "stream",
     "text": [
      "Hora de gastar!\n",
      "Relógio Comprado\n"
     ]
    }
   ],
   "source": [
    "preco = 300\n",
    "\n",
    "if salario > 500:\n",
    "    print('Hora de gastar!')\n",
    "    \n",
    "    if preco > 500:\n",
    "        print('Voce não tem dinheiro pra isso')\n",
    "    \n",
    "    else:\n",
    "        print('Relógio Comprado')\n",
    "    \n",
    "else:\n",
    "    print('É melhor deixar essa compra para depois!')"
   ]
  },
  {
   "cell_type": "code",
   "execution_count": 113,
   "metadata": {},
   "outputs": [
    {
     "name": "stdout",
     "output_type": "stream",
     "text": [
      "netflix and chill\n"
     ]
    }
   ],
   "source": [
    "tempo = 'nublado'\n",
    "\n",
    "if tempo == 'nublado':\n",
    "    print('netflix and chill')\n",
    "elif tempo == 'sol':\n",
    "    print('parque da cidade')\n",
    "elif tempo == 'chuva':\n",
    "    print('dormir')\n",
    "elif tempo == 'temporal':\n",
    "    print('corra')\n",
    "else:\n",
    "    print('sei não')"
   ]
  },
  {
   "cell_type": "code",
   "execution_count": 114,
   "metadata": {},
   "outputs": [
    {
     "name": "stdout",
     "output_type": "stream",
     "text": [
      "A maior que B!\n"
     ]
    }
   ],
   "source": [
    "## shorthand if\n",
    "\n",
    "a = 100\n",
    "b = 1.5\n",
    "\n",
    "print('A maior que B!') if a/10 > b else print('B maior que A!')"
   ]
  },
  {
   "cell_type": "markdown",
   "metadata": {},
   "source": [
    "O ```shorthand if``` tem a seguinte anatomia:\n",
    "\n",
    "<função a ser executada caso True> IF <condição> ELSE <função a ser executada caso False>"
   ]
  },
  {
   "cell_type": "markdown",
   "metadata": {},
   "source": [
    "### Exércicios!!!!"
   ]
  },
  {
   "cell_type": "markdown",
   "metadata": {},
   "source": [
    "Crie um programa que calcule IMC de dada altura e peso e imprima em qual categoria a pessoa está."
   ]
  },
  {
   "cell_type": "code",
   "execution_count": 1,
   "metadata": {},
   "outputs": [],
   "source": [
    "## SEU CÓDIGO AQUI ##\n",
    "\n",
    "\n",
    "## SEU CÓDIGO AQUI ##"
   ]
  },
  {
   "cell_type": "markdown",
   "metadata": {},
   "source": [
    "Voce é um jogador de tênis. Para decidir se você vai treinar hoje você deve avaliar duas coisas: o tempo e a temperatura. Crie um programa para saber se você deve ou não treinar hoje de acordo com as seguintes especificações:\n",
    "\n",
    "    Tempo: chuvoso -> não jogar\n",
    "    Tempo: ensolarado ou nublado -> jogar\n",
    "    Temperatura maior ou igual a 15 graus e tempo ensolarado ou nublado -> jogar\n",
    "    Temperatura menor que 15 graus e tempo ensolarado ou nublado -> não jogar\n",
    "\n",
    "Se o dia estiver ensolarado e a temperatura for de 16 graus. Você irá ou não jogar?"
   ]
  },
  {
   "cell_type": "code",
   "execution_count": 2,
   "metadata": {},
   "outputs": [],
   "source": [
    "## SEU CÓDIGO AQUI ##\n",
    "\n",
    "\n",
    "## SEU CÓDIGO AQUI ##"
   ]
  },
  {
   "cell_type": "markdown",
   "metadata": {},
   "source": [
    "Escreva um programa que receba o nome de um mês em letras minúsculas, o retorno desse programa deve ser o seguinte: se o mês começar com a letra 'a' ele deverá avaliar a segunda letra do nome do mês, se a segunda letra for 'b' ele deverá printar 'abril', se a segunda letra for 'g' ele deverá printar 'agosto'. Em todos os outros casos ele deverá printar 'mês desconhecido'."
   ]
  },
  {
   "cell_type": "code",
   "execution_count": 2,
   "metadata": {},
   "outputs": [],
   "source": [
    "## SEU CÓDIGO AQUI ##\n",
    "\n",
    "\n",
    "## SEU CÓDIGO AQUI ##"
   ]
  },
  {
   "cell_type": "markdown",
   "metadata": {},
   "source": [
    "Construa usando um programa que represente a seguinte árvore abaixo:\n",
    "\n",
    "![arvore](imgs/arvore.png)"
   ]
  },
  {
   "cell_type": "markdown",
   "metadata": {},
   "source": [
    "Quando x = 'bacon', y = [1,2,3,4,5,6,7,8,9,10,'a','b','c','d','e','f','g','h'] e z = 15. Qual valor o programa deverá printar?\n",
    "\n",
    "Quando x = 'bacon', y = [1,2,3,4], e z = 20. Qual valor o programa deverá printar?\n",
    "\n",
    "Quando x='couxeiro', y = [[1,2,3,4,5],[1,2,3,4,5],[1,2,3,4,5]] e z = 21. Qual valor o programa deverá printar?"
   ]
  },
  {
   "cell_type": "code",
   "execution_count": 2,
   "metadata": {},
   "outputs": [],
   "source": [
    "## SEU CÓDIGO AQUI ##\n",
    "\n",
    "\n",
    "## SEU CÓDIGO AQUI ##"
   ]
  },
  {
   "cell_type": "markdown",
   "metadata": {},
   "source": [
    "___"
   ]
  },
  {
   "cell_type": "markdown",
   "metadata": {},
   "source": [
    "## Estrutura de repetição\n",
    "\n",
    "### for\n",
    "\n",
    "Conseguimos executar iterar sobre objetos python utilizando o ```for```."
   ]
  },
  {
   "cell_type": "code",
   "execution_count": 1,
   "metadata": {},
   "outputs": [
    {
     "name": "stdout",
     "output_type": "stream",
     "text": [
      "1\n",
      "4\n",
      "9\n",
      "16\n",
      "25\n",
      "36\n"
     ]
    }
   ],
   "source": [
    "## Exemplo de loop for\n",
    "\n",
    "lista = [1,2,3,4,5,6]\n",
    "\n",
    "for item in lista:\n",
    "    x = item ** 2\n",
    "    print(x)"
   ]
  },
  {
   "cell_type": "code",
   "execution_count": 2,
   "metadata": {},
   "outputs": [
    {
     "name": "stdout",
     "output_type": "stream",
     "text": [
      "l\n",
      "a\n",
      "s\n",
      "a\n",
      "n\n",
      "h\n",
      "a\n",
      " \n",
      "n\n",
      "ã\n",
      "o\n",
      " \n",
      "é\n",
      " \n",
      "c\n",
      "a\n",
      "f\n",
      "é\n",
      " \n",
      "d\n",
      "a\n",
      " \n",
      "m\n",
      "a\n",
      "n\n",
      "h\n",
      "ã\n"
     ]
    }
   ],
   "source": [
    "## Loop for com strings\n",
    "\n",
    "verdade_universal = 'lasanha não é café da manhã'\n",
    "\n",
    "for palavra in verdade_universal:\n",
    "    print(palavra)"
   ]
  },
  {
   "cell_type": "code",
   "execution_count": 4,
   "metadata": {},
   "outputs": [
    {
     "name": "stdout",
     "output_type": "stream",
     "text": [
      "LASANHA\n",
      "NÃO\n",
      "É\n",
      "CAFÉ\n",
      "DA\n",
      "MANHÃ\n"
     ]
    }
   ],
   "source": [
    "## mais exemplo\n",
    "\n",
    "for palavra in verdade_universal.split():\n",
    "    print(palavra.upper())"
   ]
  },
  {
   "cell_type": "code",
   "execution_count": 5,
   "metadata": {},
   "outputs": [
    {
     "name": "stdout",
     "output_type": "stream",
     "text": [
      "O número 1 é impar!\n",
      "O número 2 é par!\n",
      "O número 3 é impar!\n",
      "O número 4 é par!\n",
      "O número 5 é impar!\n",
      "O número 6 é par!\n",
      "O número 7 é impar!\n",
      "O número 8 é par!\n",
      "O número 9 é impar!\n",
      "O número 10 é par!\n"
     ]
    }
   ],
   "source": [
    "## loop for em com condições lógicas\n",
    "\n",
    "\n",
    "lista = [1,2,3,4,5,6,7,8,9,10]\n",
    "\n",
    "for numero in lista:\n",
    "    if numero % 2 == 0:\n",
    "        print(f'O número {numero} é par!')\n",
    "    else:\n",
    "        print(f'O número {numero} é impar!')"
   ]
  },
  {
   "cell_type": "markdown",
   "metadata": {},
   "source": [
    "Podemos passar a palavra reservada ```break``` para quebrar a execução de um for loop."
   ]
  },
  {
   "cell_type": "code",
   "execution_count": 7,
   "metadata": {},
   "outputs": [
    {
     "name": "stdout",
     "output_type": "stream",
     "text": [
      "Ainda não!\n",
      "Ainda não!\n",
      "Ainda não!\n",
      "Ainda não!\n",
      "Achei! 5\n",
      "Parei!\n"
     ]
    }
   ],
   "source": [
    "## usando break\n",
    "\n",
    "lista = [1,2,3,4,5,6,7,8,9,10]\n",
    "\n",
    "for numero in lista:\n",
    "    if numero % 5 == 0:\n",
    "        print(f'Achei! {numero}')\n",
    "        print('Parei!')\n",
    "        break\n",
    "    else:\n",
    "        print('Ainda não!')"
   ]
  },
  {
   "cell_type": "code",
   "execution_count": 12,
   "metadata": {},
   "outputs": [],
   "source": [
    "chocolates = {'chocolate1':{'id':1,'cor':'azul'},\n",
    "              'chocolate2':{'id':2,'cor':'amarela'},\n",
    "              'chocolate3':{'id':3,'cor':'amarela'},\n",
    "              'chocolate4':{'id':4,'cor':'azul'},\n",
    "              'chocolate5':{'id':5,'cor':'verde'},\n",
    "              'chocolate6':{'id':6,'cor':'azul'}}\n",
    "\n",
    "\n",
    "caixa_azul = []\n",
    "caixa_amarela = []\n",
    "\n",
    "for chocolate in chocolates.values():\n",
    "    if chocolate['cor'] == 'azul':\n",
    "        caixa_azul.append(chocolate)\n",
    "    elif chocolate['cor'] == 'amarela':\n",
    "        caixa_amarela.append(chocolate)\n",
    "    else:\n",
    "        continue"
   ]
  },
  {
   "cell_type": "code",
   "execution_count": 13,
   "metadata": {},
   "outputs": [
    {
     "name": "stdout",
     "output_type": "stream",
     "text": [
      "[{'id': 1, 'cor': 'azul'}, {'id': 4, 'cor': 'azul'}, {'id': 6, 'cor': 'azul'}]\n",
      "[{'id': 2, 'cor': 'amarela'}, {'id': 3, 'cor': 'amarela'}]\n"
     ]
    }
   ],
   "source": [
    "print(caixa_azul)\n",
    "print(caixa_amarela)"
   ]
  },
  {
   "cell_type": "markdown",
   "metadata": {},
   "source": [
    "### Compreensão de listas\n",
    "\n",
    "Compreensão de listas são uma forma de trabalhar com listas e loops for de uma forma simples e considerada pythonica."
   ]
  },
  {
   "cell_type": "code",
   "execution_count": 15,
   "metadata": {},
   "outputs": [
    {
     "data": {
      "text/plain": [
       "[1, 4, 9, 16, 25, 36, 49, 64, 81, 100]"
      ]
     },
     "execution_count": 15,
     "metadata": {},
     "output_type": "execute_result"
    }
   ],
   "source": [
    "ls = [1,2,3,4,5,6,7,8,9,10]\n",
    "\n",
    "[x**2 for x in ls]"
   ]
  },
  {
   "cell_type": "code",
   "execution_count": 16,
   "metadata": {},
   "outputs": [
    {
     "name": "stdout",
     "output_type": "stream",
     "text": [
      "1\n",
      "4\n",
      "9\n",
      "16\n",
      "25\n",
      "36\n",
      "49\n",
      "64\n",
      "81\n",
      "100\n"
     ]
    }
   ],
   "source": [
    "for x in ls:\n",
    "    print(x**2)"
   ]
  },
  {
   "cell_type": "markdown",
   "metadata": {},
   "source": [
    "As duas funções acima fazem basicamente a mesma coisa, porém a primeira retorna uma lista e a segunda não. Porém em termos de funcionalidade ambas são iguais. A anatomia de uma compreensão de lista é a seguinte:\n",
    "\n",
    "[<bloco de código> FOR <variável> IN <objeto iterável>]"
   ]
  },
  {
   "cell_type": "code",
   "execution_count": 17,
   "metadata": {},
   "outputs": [
    {
     "data": {
      "text/plain": [
       "['BACON', 'É', 'BOM', 'DEMAIS']"
      ]
     },
     "execution_count": 17,
     "metadata": {},
     "output_type": "execute_result"
    }
   ],
   "source": [
    "ls2 = ['bacon','é','bom','demais']\n",
    "\n",
    "[x.upper() for x in ls2]"
   ]
  },
  {
   "cell_type": "code",
   "execution_count": 18,
   "metadata": {},
   "outputs": [
    {
     "data": {
      "text/plain": [
       "['BACON', 'BOM']"
      ]
     },
     "execution_count": 18,
     "metadata": {},
     "output_type": "execute_result"
    }
   ],
   "source": [
    "[x.upper() for x in ls2 if x[0]=='b']"
   ]
  },
  {
   "cell_type": "markdown",
   "metadata": {},
   "source": [
    "### while\n",
    "\n",
    "O ```while``` loop executa todo um bloco de código até que sua condição seja considerada falsa ou que ele seja parado utilizando a palavra reservada ```break```."
   ]
  },
  {
   "cell_type": "code",
   "execution_count": 21,
   "metadata": {},
   "outputs": [
    {
     "name": "stdout",
     "output_type": "stream",
     "text": [
      "10 é menor do que 100.\n",
      "20 é menor do que 100.\n",
      "30 é menor do que 100.\n",
      "40 é menor do que 100.\n",
      "50 é menor do que 100.\n",
      "60 é menor do que 100.\n",
      "70 é menor do que 100.\n",
      "80 é menor do que 100.\n",
      "90 é menor do que 100.\n"
     ]
    }
   ],
   "source": [
    "## usando um while\n",
    "\n",
    "i = 10\n",
    "\n",
    "while i < 100:\n",
    "    print(i,'é menor do que 100.')\n",
    "    i += 10"
   ]
  },
  {
   "cell_type": "code",
   "execution_count": 22,
   "metadata": {},
   "outputs": [
    {
     "data": {
      "text/plain": [
       "100"
      ]
     },
     "execution_count": 22,
     "metadata": {},
     "output_type": "execute_result"
    }
   ],
   "source": [
    "i"
   ]
  },
  {
   "cell_type": "code",
   "execution_count": 25,
   "metadata": {},
   "outputs": [
    {
     "name": "stdout",
     "output_type": "stream",
     "text": [
      "10\n",
      "20\n",
      "30\n",
      "40\n",
      "50\n",
      "60\n",
      "70\n",
      "80\n",
      "90\n",
      "100\n"
     ]
    }
   ],
   "source": [
    "## Usando while com break\n",
    "\n",
    "i = 10\n",
    "\n",
    "while i < 100000:\n",
    "    print(i)\n",
    "    \n",
    "    if i >= 100:\n",
    "        break\n",
    "    \n",
    "    i += 10"
   ]
  },
  {
   "cell_type": "markdown",
   "metadata": {},
   "source": [
    "### Exércicios!!!!"
   ]
  },
  {
   "cell_type": "markdown",
   "metadata": {},
   "source": [
    "Construa um programa que dê print em todos os quadrados dos valores de 0 a 10;"
   ]
  },
  {
   "cell_type": "code",
   "execution_count": 2,
   "metadata": {},
   "outputs": [],
   "source": [
    "## SEU CÓDIGO AQUI ##\n",
    "\n",
    "\n",
    "## SEU CÓDIGO AQUI ##"
   ]
  },
  {
   "cell_type": "markdown",
   "metadata": {},
   "source": [
    "Construa um programa que encontre a soma de todos os valores pares de 0 a 10;"
   ]
  },
  {
   "cell_type": "code",
   "execution_count": 2,
   "metadata": {},
   "outputs": [],
   "source": [
    "## SEU CÓDIGO AQUI ##\n",
    "\n",
    "\n",
    "## SEU CÓDIGO AQUI ##"
   ]
  },
  {
   "cell_type": "markdown",
   "metadata": {},
   "source": [
    "Construa um programa que receba três numeros (a,b,c) e encontre quantos valores entre 'a' e 'b' são divisivéis por 'c' (divisível significa que o resto da divisão deve ser zero). Utilize a seguinte sequência (10,500,23)"
   ]
  },
  {
   "cell_type": "code",
   "execution_count": 2,
   "metadata": {},
   "outputs": [],
   "source": [
    "## SEU CÓDIGO AQUI ##\n",
    "\n",
    "\n",
    "## SEU CÓDIGO AQUI ##"
   ]
  },
  {
   "cell_type": "markdown",
   "metadata": {},
   "source": [
    "Construa um programa para ter o seguinte output:\n",
    "\n",
    "1 ---- 99<br>\n",
    "2 ---- 98<br>\n",
    "3 ---- 97<br>\n",
    "4 ---- 96<br>\n",
    ".<br>\n",
    ".<br>\n",
    ".<br>\n",
    "99 ---- 1<br>"
   ]
  },
  {
   "cell_type": "code",
   "execution_count": 2,
   "metadata": {},
   "outputs": [],
   "source": [
    "## SEU CÓDIGO AQUI ##\n",
    "\n",
    "\n",
    "## SEU CÓDIGO AQUI ##"
   ]
  },
  {
   "cell_type": "markdown",
   "metadata": {},
   "source": [
    "Construa um programa que receba um input e tenha o seguinte comportamento:\n",
    "\n",
    "input = 5\n",
    "\n",
    "output:\n",
    "\n",
    "+<br>\n",
    "++<br>\n",
    "+++<br>\n",
    "++++<br>\n",
    "+++++<br>"
   ]
  },
  {
   "cell_type": "code",
   "execution_count": 2,
   "metadata": {},
   "outputs": [],
   "source": [
    "## SEU CÓDIGO AQUI ##\n",
    "\n",
    "\n",
    "## SEU CÓDIGO AQUI ##"
   ]
  },
  {
   "cell_type": "markdown",
   "metadata": {},
   "source": [
    "Itere sobre a lista abaixo e crie uma nova lista com todos os nomes em letras maisculuas e com underline ao invés de espaços. Dica: utilize compreensão de listas.\n",
    "\n",
    "lista_nomes = ['Geralt de Rívia','Yennefer de Vengerberd','Triss Marigold','Emhyr var Emreis','Jaskier o bardo']"
   ]
  },
  {
   "cell_type": "code",
   "execution_count": 2,
   "metadata": {},
   "outputs": [],
   "source": [
    "## SEU CÓDIGO AQUI ##\n",
    "\n",
    "\n",
    "## SEU CÓDIGO AQUI ##"
   ]
  },
  {
   "cell_type": "markdown",
   "metadata": {},
   "source": [
    "___"
   ]
  },
  {
   "cell_type": "markdown",
   "metadata": {},
   "source": [
    "## Definiçao de funções"
   ]
  },
  {
   "cell_type": "markdown",
   "metadata": {},
   "source": [
    "Funções são blocos de código que só rodam quando são chamados. Informação pode ser inputada nas funções utilizando parâmetros. Um função pode ter vários parâmetros. A utilização de funções é algo importante na ciência de dados, principalmente para automatização de atividades de feature engineering, por exemplo. Toda função em python é criada utilizando a palavra reservada ```def```."
   ]
  },
  {
   "cell_type": "code",
   "execution_count": 27,
   "metadata": {},
   "outputs": [],
   "source": [
    "## definindo a função hello\n",
    "\n",
    "def hello(name):\n",
    "    print('Hello,',name)"
   ]
  },
  {
   "cell_type": "code",
   "execution_count": 28,
   "metadata": {},
   "outputs": [
    {
     "name": "stdout",
     "output_type": "stream",
     "text": [
      "Hello, nasser\n"
     ]
    }
   ],
   "source": [
    "hello('nasser')"
   ]
  },
  {
   "cell_type": "code",
   "execution_count": null,
   "metadata": {},
   "outputs": [],
   "source": [
    "## utilizando a função hello com loop for\n",
    "\n",
    "ls = ['nasser','joão','maria']\n",
    "\n",
    "for name in ls:\n",
    "    hello(name)"
   ]
  },
  {
   "cell_type": "code",
   "execution_count": 29,
   "metadata": {},
   "outputs": [],
   "source": [
    "## definindo a função square\n",
    "\n",
    "def square(number):\n",
    "    print(number**2)"
   ]
  },
  {
   "cell_type": "code",
   "execution_count": 30,
   "metadata": {},
   "outputs": [
    {
     "name": "stdout",
     "output_type": "stream",
     "text": [
      "100\n",
      "121\n",
      "144\n",
      "169\n",
      "196\n",
      "225\n",
      "256\n",
      "289\n",
      "324\n",
      "361\n",
      "400\n"
     ]
    }
   ],
   "source": [
    "## usando a função square com loops for\n",
    "\n",
    "for number in range(10,21):\n",
    "    square(number)"
   ]
  },
  {
   "cell_type": "code",
   "execution_count": 33,
   "metadata": {},
   "outputs": [],
   "source": [
    "## definindo uma função que recebe uma lista\n",
    "\n",
    "def ls_square(lista):\n",
    "    print([x**2 for x in lista])"
   ]
  },
  {
   "cell_type": "code",
   "execution_count": 34,
   "metadata": {},
   "outputs": [
    {
     "name": "stdout",
     "output_type": "stream",
     "text": [
      "[1, 4, 9, 16, 25]\n"
     ]
    }
   ],
   "source": [
    "ls_square([1,2,3,4,5])"
   ]
  },
  {
   "cell_type": "markdown",
   "metadata": {},
   "source": [
    "Funções podem receber mais de um parâmetro, basta que estes sejam definidos ao criar a função."
   ]
  },
  {
   "cell_type": "code",
   "execution_count": 35,
   "metadata": {},
   "outputs": [],
   "source": [
    "## criando uma função com vários parâmetros\n",
    "\n",
    "def power(numero,potencia):\n",
    "    print(numero**potencia)"
   ]
  },
  {
   "cell_type": "code",
   "execution_count": 36,
   "metadata": {},
   "outputs": [
    {
     "name": "stdout",
     "output_type": "stream",
     "text": [
      "15625\n"
     ]
    }
   ],
   "source": [
    "power(25,3)"
   ]
  },
  {
   "cell_type": "code",
   "execution_count": 37,
   "metadata": {},
   "outputs": [
    {
     "name": "stdout",
     "output_type": "stream",
     "text": [
      "3375\n"
     ]
    }
   ],
   "source": [
    "## o nome do parâmetro pode ser utilizado e quando o fazemos, não precisamos nos preocupar com a ordem\n",
    "\n",
    "power(potencia=3,numero=15)"
   ]
  },
  {
   "cell_type": "code",
   "execution_count": 38,
   "metadata": {},
   "outputs": [],
   "source": [
    "## o parâmetro pode receber um valor padrão que só será alterado se for explicitamente chamado\n",
    "\n",
    "def potencia(numero,potencia=2):\n",
    "    print(numero**potencia)"
   ]
  },
  {
   "cell_type": "code",
   "execution_count": 39,
   "metadata": {},
   "outputs": [
    {
     "name": "stdout",
     "output_type": "stream",
     "text": [
      "100\n"
     ]
    }
   ],
   "source": [
    "## chamando potencia sem definir a potencia\n",
    "\n",
    "potencia(10)"
   ]
  },
  {
   "cell_type": "code",
   "execution_count": 41,
   "metadata": {},
   "outputs": [
    {
     "name": "stdout",
     "output_type": "stream",
     "text": [
      "1000\n"
     ]
    }
   ],
   "source": [
    "## chamando potencia alterando o valor da potencia\n",
    "\n",
    "potencia(10,3)"
   ]
  },
  {
   "cell_type": "markdown",
   "metadata": {},
   "source": [
    "Funções em python podem retornar valores que podem ser guardados em variáveis, para isso, devemos usar o 'return'. Veja diferença abaixo."
   ]
  },
  {
   "cell_type": "code",
   "execution_count": 43,
   "metadata": {},
   "outputs": [],
   "source": [
    "def cube(numero):\n",
    "    numero**3\n",
    "    \n",
    "def ret_cube(numero):\n",
    "    return numero**3"
   ]
  },
  {
   "cell_type": "code",
   "execution_count": 44,
   "metadata": {},
   "outputs": [],
   "source": [
    "## Veja que ao executar a função abaixo ela não retorna nada apesar de processamento ter sido gasto para executar a função.\n",
    "\n",
    "cube(10)"
   ]
  },
  {
   "cell_type": "code",
   "execution_count": 46,
   "metadata": {},
   "outputs": [],
   "source": [
    "## Se tentarmos guardar a saída da função cube em uma variável o seguinte comportamento acontece\n",
    "\n",
    "cube10 = cube(10)"
   ]
  },
  {
   "cell_type": "code",
   "execution_count": 47,
   "metadata": {},
   "outputs": [
    {
     "name": "stdout",
     "output_type": "stream",
     "text": [
      "None\n"
     ]
    }
   ],
   "source": [
    "## Verificando o valor guardado dentro da variável cube10\n",
    "\n",
    "print(cube10)"
   ]
  },
  {
   "cell_type": "code",
   "execution_count": 48,
   "metadata": {},
   "outputs": [
    {
     "data": {
      "text/plain": [
       "1000"
      ]
     },
     "execution_count": 48,
     "metadata": {},
     "output_type": "execute_result"
    }
   ],
   "source": [
    "## Usando a função com return o comportamento muda entregando uma valor ao final da sua execução, esse valor por ser guardado ou não em alguma variável.\n",
    "\n",
    "ret_cube(10)"
   ]
  },
  {
   "cell_type": "code",
   "execution_count": 49,
   "metadata": {},
   "outputs": [],
   "source": [
    "## Usando a função com return o valor pode ser guardado em um variável e acessado depois\n",
    "\n",
    "returned_value = ret_cube(10)"
   ]
  },
  {
   "cell_type": "code",
   "execution_count": 51,
   "metadata": {},
   "outputs": [
    {
     "name": "stdout",
     "output_type": "stream",
     "text": [
      "1000\n"
     ]
    }
   ],
   "source": [
    "## Verificando o valor guardado dentro da variável returned_value\n",
    "\n",
    "print(returned_value)"
   ]
  },
  {
   "cell_type": "markdown",
   "metadata": {},
   "source": [
    "### lambda\n",
    "\n",
    "A função lambda é uma forma pythonica de escrever uma função. Ela também é chamada de função anônima porque, normalmente, não se atribui nenhum nome a ela. Pode ser definida utilizando a palavra reservada ```lambda```. Sua anatomia:\n",
    "\n",
    "LAMBDA <parâmetro> : <código a ser executado>\n",
    "\n",
    "obs.: funções lambda não necessitam de 'return'."
   ]
  },
  {
   "cell_type": "code",
   "execution_count": 60,
   "metadata": {},
   "outputs": [
    {
     "data": {
      "text/plain": [
       "<function __main__.<lambda>(x)>"
      ]
     },
     "execution_count": 60,
     "metadata": {},
     "output_type": "execute_result"
    }
   ],
   "source": [
    "lambda x:x+2"
   ]
  },
  {
   "cell_type": "code",
   "execution_count": 62,
   "metadata": {},
   "outputs": [
    {
     "data": {
      "text/plain": [
       "7"
      ]
     },
     "execution_count": 62,
     "metadata": {},
     "output_type": "execute_result"
    }
   ],
   "source": [
    "(lambda x:x+2)(5)"
   ]
  },
  {
   "cell_type": "code",
   "execution_count": 63,
   "metadata": {},
   "outputs": [],
   "source": [
    "add_two = lambda x:x+2"
   ]
  },
  {
   "cell_type": "code",
   "execution_count": 64,
   "metadata": {},
   "outputs": [
    {
     "data": {
      "text/plain": [
       "7"
      ]
     },
     "execution_count": 64,
     "metadata": {},
     "output_type": "execute_result"
    }
   ],
   "source": [
    "add_two(5)"
   ]
  },
  {
   "cell_type": "markdown",
   "metadata": {},
   "source": [
    "### Exércicios!!!!"
   ]
  },
  {
   "cell_type": "markdown",
   "metadata": {},
   "source": [
    "Escreva uma função python que receba uma lista e separe os múltiplos de 5. Ao final ela retorna a soma de todos os valores na lista de multiplos de 5. Escreva a função de tal forma que ela só possa receber listas e não outros tipos de dados."
   ]
  },
  {
   "cell_type": "code",
   "execution_count": 2,
   "metadata": {},
   "outputs": [],
   "source": [
    "## SEU CÓDIGO AQUI ##\n",
    "\n",
    "\n",
    "## SEU CÓDIGO AQUI ##"
   ]
  },
  {
   "cell_type": "markdown",
   "metadata": {},
   "source": [
    "Escreva uma função para verificar se uma palavra é um palíndromo."
   ]
  },
  {
   "cell_type": "code",
   "execution_count": 2,
   "metadata": {},
   "outputs": [],
   "source": [
    "## SEU CÓDIGO AQUI ##\n",
    "\n",
    "\n",
    "## SEU CÓDIGO AQUI ##"
   ]
  },
  {
   "cell_type": "markdown",
   "metadata": {},
   "source": [
    "Escreva uma função que receba uma lista crie um dicionário com a contagem dos valores dessa lista."
   ]
  },
  {
   "cell_type": "code",
   "execution_count": 2,
   "metadata": {},
   "outputs": [],
   "source": [
    "## SEU CÓDIGO AQUI ##\n",
    "\n",
    "\n",
    "## SEU CÓDIGO AQUI ##"
   ]
  },
  {
   "cell_type": "markdown",
   "metadata": {},
   "source": [
    "Escreva uma função que receba uma lista de listas, itere sobre cada lista, some seus valores, gere uma segunda lista e descubra o desvio padrão dela.\n",
    "\n",
    "entrada : [[12,12,5,6,3,6,8,5,5,5],[3,3,3,3,4,4,15,89,20,20],[15,15,15,20,30,35,35,35,15,15],[10,10,10,10,15,15,15,15],[5,5,2,2],[8,8,89,89,898,1000]]"
   ]
  },
  {
   "cell_type": "code",
   "execution_count": 2,
   "metadata": {},
   "outputs": [],
   "source": [
    "## SEU CÓDIGO AQUI ##\n",
    "\n",
    "\n",
    "## SEU CÓDIGO AQUI ##"
   ]
  },
  {
   "cell_type": "markdown",
   "metadata": {},
   "source": [
    "____"
   ]
  },
  {
   "cell_type": "markdown",
   "metadata": {},
   "source": [
    "## Funções built-in\n",
    "\n",
    "O python tem vários funções built-in, ou seja, funções que já veem na linguagem e não precisam ser importadas. Elas podem ser vistas em: https://docs.python.org/3/library/functions.html"
   ]
  },
  {
   "cell_type": "markdown",
   "metadata": {},
   "source": [
    "### zip\n",
    "\n",
    "A função zip junta os valores de dois iteráveis valor a valor."
   ]
  },
  {
   "cell_type": "code",
   "execution_count": 69,
   "metadata": {},
   "outputs": [
    {
     "name": "stdout",
     "output_type": "stream",
     "text": [
      "1 10\n",
      "2 20\n",
      "3 30\n",
      "4 40\n",
      "5 50\n",
      "6 60\n",
      "7 70\n",
      "8 80\n",
      "9 90\n",
      "10 100\n"
     ]
    }
   ],
   "source": [
    "x = [1,2,3,4,5,6,7,8,9,10]\n",
    "y = [10,20,30,40,50,60,70,80,90,100]\n",
    "\n",
    "for a,b in zip(x,y):\n",
    "    print(a,b)"
   ]
  },
  {
   "cell_type": "code",
   "execution_count": 70,
   "metadata": {},
   "outputs": [
    {
     "name": "stdout",
     "output_type": "stream",
     "text": [
      "(1, 10)\n",
      "(2, 20)\n",
      "(3, 30)\n",
      "(4, 40)\n",
      "(5, 50)\n",
      "(6, 60)\n",
      "(7, 70)\n",
      "(8, 80)\n",
      "(9, 90)\n",
      "(10, 100)\n"
     ]
    }
   ],
   "source": [
    "## a função zip gera tuplas que podem ser acessadas\n",
    "\n",
    "for a in zip(x,y):\n",
    "    print(a)"
   ]
  },
  {
   "cell_type": "code",
   "execution_count": 72,
   "metadata": {},
   "outputs": [
    {
     "data": {
      "text/plain": [
       "[(1, 2, 3, 4, 5), ('a', 'b', 'c', 'd', 'e')]"
      ]
     },
     "execution_count": 72,
     "metadata": {},
     "output_type": "execute_result"
    }
   ],
   "source": [
    "## dando unzip nem uma série de tuplas (basta usar *)\n",
    "\n",
    "x = [(1,'a'),(2,'b'),(3,'c'),(4,'d'),(5,'e')]\n",
    "\n",
    "list(zip(*x))"
   ]
  },
  {
   "cell_type": "markdown",
   "metadata": {},
   "source": [
    "### enumerate\n",
    "\n",
    "Enumerate cria um contador para cada iteração de um iterável."
   ]
  },
  {
   "cell_type": "code",
   "execution_count": 73,
   "metadata": {},
   "outputs": [
    {
     "data": {
      "text/plain": [
       "[(0, 'a'),\n",
       " (1, 'b'),\n",
       " (2, 'c'),\n",
       " (3, 'd'),\n",
       " (4, 'e'),\n",
       " (5, 'f'),\n",
       " (6, 'g'),\n",
       " (7, 'h'),\n",
       " (8, 'i'),\n",
       " (9, 'j'),\n",
       " (10, 'k'),\n",
       " (11, 'l'),\n",
       " (12, 'm'),\n",
       " (13, 'n'),\n",
       " (14, 'o'),\n",
       " (15, 'p'),\n",
       " (16, 'q'),\n",
       " (17, 'r'),\n",
       " (18, 's')]"
      ]
     },
     "execution_count": 73,
     "metadata": {},
     "output_type": "execute_result"
    }
   ],
   "source": [
    "ls = ['a','b','c','d','e','f','g','h','i','j','k','l','m','n','o','p','q','r','s']\n",
    "\n",
    "list(enumerate(ls))"
   ]
  },
  {
   "cell_type": "code",
   "execution_count": 74,
   "metadata": {},
   "outputs": [
    {
     "data": {
      "text/plain": [
       "[(1, 'a'),\n",
       " (2, 'b'),\n",
       " (3, 'c'),\n",
       " (4, 'd'),\n",
       " (5, 'e'),\n",
       " (6, 'f'),\n",
       " (7, 'g'),\n",
       " (8, 'h'),\n",
       " (9, 'i'),\n",
       " (10, 'j'),\n",
       " (11, 'k'),\n",
       " (12, 'l'),\n",
       " (13, 'm'),\n",
       " (14, 'n'),\n",
       " (15, 'o'),\n",
       " (16, 'p'),\n",
       " (17, 'q'),\n",
       " (18, 'r'),\n",
       " (19, 's')]"
      ]
     },
     "execution_count": 74,
     "metadata": {},
     "output_type": "execute_result"
    }
   ],
   "source": [
    "ls = ['a','b','c','d','e','f','g','h','i','j','k','l','m','n','o','p','q','r','s']\n",
    "\n",
    "list(enumerate(ls,start=1))"
   ]
  },
  {
   "cell_type": "markdown",
   "metadata": {},
   "source": [
    "### Counter\n",
    "\n",
    "Counter é uma classe do pacote collections do python que está pronta para contar a quantidade de valores de um iterável."
   ]
  },
  {
   "cell_type": "code",
   "execution_count": 79,
   "metadata": {},
   "outputs": [],
   "source": [
    "from collections import Counter"
   ]
  },
  {
   "cell_type": "code",
   "execution_count": 82,
   "metadata": {},
   "outputs": [],
   "source": [
    "lista_longa = ['a','a','a','a','a','a','a','a','a','a','a','a','a','b','b','b','b','b','b','b','b','b','b','b','b','b','b','b','b','b','b','b','b','b','c','c','c','c','c','c','c','c',\n",
    "              'c','c','c','d','d','d','d','d','d','d','d','d','d','d','d','d']\n",
    "\n",
    "c = Counter(lista_longa)"
   ]
  },
  {
   "cell_type": "code",
   "execution_count": 89,
   "metadata": {},
   "outputs": [
    {
     "data": {
      "text/plain": [
       "Counter({'L': 1,\n",
       "         'o': 21,\n",
       "         'r': 24,\n",
       "         'e': 36,\n",
       "         'm': 16,\n",
       "         ' ': 66,\n",
       "         'i': 45,\n",
       "         'p': 6,\n",
       "         's': 37,\n",
       "         'u': 29,\n",
       "         'd': 12,\n",
       "         'l': 20,\n",
       "         't': 31,\n",
       "         'a': 27,\n",
       "         ',': 8,\n",
       "         'c': 17,\n",
       "         'n': 17,\n",
       "         'g': 7,\n",
       "         '.': 8,\n",
       "         'C': 3,\n",
       "         'b': 6,\n",
       "         'f': 3,\n",
       "         'v': 5,\n",
       "         'D': 2,\n",
       "         'q': 5,\n",
       "         'P': 1,\n",
       "         'h': 1,\n",
       "         'N': 1,\n",
       "         'x': 2,\n",
       "         'j': 1})"
      ]
     },
     "execution_count": 89,
     "metadata": {},
     "output_type": "execute_result"
    }
   ],
   "source": [
    "string_lorem = 'Lorem ipsum dolor sit amet, consectetur adipiscing elit. Curabitur porttitor ultrices enim sit amet finibus. Curabitur gravida ultricies blandit. Donec commodo lorem quis nisi pretium, nec egestas odio dignissim. Phasellus quam metus, lacinia quis sodales nec, congue quis ante. Nullam mollis eros lacus, sed tincidunt libero egestas sed. Cras porta gravida felis, sit amet faucibus turpis ultricies ut. Duis in ex viverra, aliquam justo vel, consectetur ex.'\n",
    "\n",
    "c = Counter(string)\n",
    "c"
   ]
  },
  {
   "cell_type": "code",
   "execution_count": 90,
   "metadata": {},
   "outputs": [
    {
     "data": {
      "text/plain": [
       "Counter({'L': 2,\n",
       "         'o': 22,\n",
       "         'r': 25,\n",
       "         'e': 37,\n",
       "         'm': 17,\n",
       "         ' ': 66,\n",
       "         'i': 45,\n",
       "         'p': 6,\n",
       "         's': 37,\n",
       "         'u': 29,\n",
       "         'd': 12,\n",
       "         'l': 20,\n",
       "         't': 31,\n",
       "         'a': 27,\n",
       "         ',': 8,\n",
       "         'c': 17,\n",
       "         'n': 17,\n",
       "         'g': 7,\n",
       "         '.': 8,\n",
       "         'C': 3,\n",
       "         'b': 6,\n",
       "         'f': 3,\n",
       "         'v': 5,\n",
       "         'D': 2,\n",
       "         'q': 5,\n",
       "         'P': 1,\n",
       "         'h': 1,\n",
       "         'N': 1,\n",
       "         'x': 2,\n",
       "         'j': 1})"
      ]
     },
     "execution_count": 90,
     "metadata": {},
     "output_type": "execute_result"
    }
   ],
   "source": [
    "## update \n",
    "\n",
    "c.update('Lorem')\n",
    "c"
   ]
  },
  {
   "cell_type": "code",
   "execution_count": 93,
   "metadata": {},
   "outputs": [
    {
     "data": {
      "text/plain": [
       "12"
      ]
     },
     "execution_count": 93,
     "metadata": {},
     "output_type": "execute_result"
    }
   ],
   "source": [
    "c['d']"
   ]
  },
  {
   "cell_type": "markdown",
   "metadata": {},
   "source": [
    "### range\n",
    "\n",
    "A função ```range``` retorna um objeto iterável com um intervalo numérico passado em seu argumentos. É possível também determinar o passo da função."
   ]
  },
  {
   "cell_type": "code",
   "execution_count": 94,
   "metadata": {},
   "outputs": [
    {
     "data": {
      "text/plain": [
       "range(0, 20)"
      ]
     },
     "execution_count": 94,
     "metadata": {},
     "output_type": "execute_result"
    }
   ],
   "source": [
    "range(20)"
   ]
  },
  {
   "cell_type": "code",
   "execution_count": 95,
   "metadata": {},
   "outputs": [
    {
     "data": {
      "text/plain": [
       "range(1, 20)"
      ]
     },
     "execution_count": 95,
     "metadata": {},
     "output_type": "execute_result"
    }
   ],
   "source": [
    "range(1,20)"
   ]
  },
  {
   "cell_type": "code",
   "execution_count": 97,
   "metadata": {},
   "outputs": [
    {
     "name": "stdout",
     "output_type": "stream",
     "text": [
      "0 1 2 3 4 5 6 7 8 9 10 11 12 13 14 15 16 17 18 19 "
     ]
    }
   ],
   "source": [
    "for i in range(20):\n",
    "    print(i, end=' ')"
   ]
  },
  {
   "cell_type": "code",
   "execution_count": 98,
   "metadata": {},
   "outputs": [
    {
     "name": "stdout",
     "output_type": "stream",
     "text": [
      "0 2 4 6 8 10 12 14 16 18 "
     ]
    }
   ],
   "source": [
    "for i in range(0,20,2):\n",
    "    print(i, end=' ')"
   ]
  },
  {
   "cell_type": "code",
   "execution_count": 100,
   "metadata": {},
   "outputs": [
    {
     "data": {
      "text/plain": [
       "[0, 1, 2, 3, 4, 5, 6, 7, 8, 9, 10, 11, 12, 13, 14, 15, 16, 17, 18, 19]"
      ]
     },
     "execution_count": 100,
     "metadata": {},
     "output_type": "execute_result"
    }
   ],
   "source": [
    "list(range(20))"
   ]
  },
  {
   "cell_type": "markdown",
   "metadata": {},
   "source": [
    "___"
   ]
  }
 ],
 "metadata": {
  "kernelspec": {
   "display_name": "Python 3.7.6 64-bit ('base': conda)",
   "language": "python",
   "name": "python37664bitbaseconda774df39cacc84caf9286edd8f47a70cc"
  },
  "language_info": {
   "codemirror_mode": {
    "name": "ipython",
    "version": 3
   },
   "file_extension": ".py",
   "mimetype": "text/x-python",
   "name": "python",
   "nbconvert_exporter": "python",
   "pygments_lexer": "ipython3",
   "version": "3.7.6"
  }
 },
 "nbformat": 4,
 "nbformat_minor": 4
}
